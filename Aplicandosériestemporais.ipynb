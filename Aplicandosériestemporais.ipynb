{
  "nbformat": 4,
  "nbformat_minor": 0,
  "metadata": {
    "colab": {
      "provenance": [],
      "authorship_tag": "ABX9TyMz3+nPruDim4RynrN8dUny",
      "include_colab_link": true
    },
    "kernelspec": {
      "name": "python3",
      "display_name": "Python 3"
    },
    "language_info": {
      "name": "python"
    }
  },
  "cells": [
    {
      "cell_type": "markdown",
      "metadata": {
        "id": "view-in-github",
        "colab_type": "text"
      },
      "source": [
        "<a href=\"https://colab.research.google.com/github/Thiaguinho92/S-ries-temporais/blob/main/Aplicandos%C3%A9riestemporais.ipynb\" target=\"_parent\"><img src=\"https://colab.research.google.com/assets/colab-badge.svg\" alt=\"Open In Colab\"/></a>"
      ]
    },
    {
      "cell_type": "markdown",
      "source": [
        "# TREINANDO SÉRIES TEMPORAIS - MACHINE LEARNING"
      ],
      "metadata": {
        "id": "n4TW3Q0BX2tR"
      }
    },
    {
      "cell_type": "code",
      "execution_count": 1,
      "metadata": {
        "id": "jF_jfMce2u2Z"
      },
      "outputs": [],
      "source": [
        "import pandas as pd\n",
        "import numpy as np\n",
        "from matplotlib import pyplot as plt\n",
        "\n",
        "from statsmodels.tsa.arima.model import ARIMA"
      ]
    },
    {
      "cell_type": "code",
      "source": [
        "#Biblioteca de algoritimos e ferramentas matemáticas para ciência e engenharia de dados\n",
        "\n",
        "!pip install scipy"
      ],
      "metadata": {
        "colab": {
          "base_uri": "https://localhost:8080/"
        },
        "id": "YlOpldWq26MR",
        "outputId": "bd313b3a-2945-4bfa-9bec-aba5a162c323"
      },
      "execution_count": 2,
      "outputs": [
        {
          "output_type": "stream",
          "name": "stdout",
          "text": [
            "Looking in indexes: https://pypi.org/simple, https://us-python.pkg.dev/colab-wheels/public/simple/\n",
            "Requirement already satisfied: scipy in /usr/local/lib/python3.10/dist-packages (1.10.1)\n",
            "Requirement already satisfied: numpy<1.27.0,>=1.19.5 in /usr/local/lib/python3.10/dist-packages (from scipy) (1.22.4)\n"
          ]
        }
      ]
    },
    {
      "cell_type": "code",
      "source": [
        "#Instalando ferramenta para modelagem e previsão de séries temporais\n",
        "!pip install pmdarima"
      ],
      "metadata": {
        "colab": {
          "base_uri": "https://localhost:8080/"
        },
        "id": "8LzRmzUx3FEC",
        "outputId": "dda90c25-2b18-42c2-92c0-510f6af5f362"
      },
      "execution_count": 3,
      "outputs": [
        {
          "output_type": "stream",
          "name": "stdout",
          "text": [
            "Looking in indexes: https://pypi.org/simple, https://us-python.pkg.dev/colab-wheels/public/simple/\n",
            "Collecting pmdarima\n",
            "  Downloading pmdarima-2.0.3-cp310-cp310-manylinux_2_17_x86_64.manylinux2014_x86_64.manylinux_2_28_x86_64.whl (1.8 MB)\n",
            "\u001b[2K     \u001b[90m━━━━━━━━━━━━━━━━━━━━━━━━━━━━━━━━━━━━━━━━\u001b[0m \u001b[32m1.8/1.8 MB\u001b[0m \u001b[31m18.7 MB/s\u001b[0m eta \u001b[36m0:00:00\u001b[0m\n",
            "\u001b[?25hRequirement already satisfied: joblib>=0.11 in /usr/local/lib/python3.10/dist-packages (from pmdarima) (1.2.0)\n",
            "Requirement already satisfied: Cython!=0.29.18,!=0.29.31,>=0.29 in /usr/local/lib/python3.10/dist-packages (from pmdarima) (0.29.34)\n",
            "Requirement already satisfied: numpy>=1.21.2 in /usr/local/lib/python3.10/dist-packages (from pmdarima) (1.22.4)\n",
            "Requirement already satisfied: pandas>=0.19 in /usr/local/lib/python3.10/dist-packages (from pmdarima) (1.5.3)\n",
            "Requirement already satisfied: scikit-learn>=0.22 in /usr/local/lib/python3.10/dist-packages (from pmdarima) (1.2.2)\n",
            "Requirement already satisfied: scipy>=1.3.2 in /usr/local/lib/python3.10/dist-packages (from pmdarima) (1.10.1)\n",
            "Requirement already satisfied: statsmodels>=0.13.2 in /usr/local/lib/python3.10/dist-packages (from pmdarima) (0.13.5)\n",
            "Requirement already satisfied: urllib3 in /usr/local/lib/python3.10/dist-packages (from pmdarima) (1.26.15)\n",
            "Requirement already satisfied: setuptools!=50.0.0,>=38.6.0 in /usr/local/lib/python3.10/dist-packages (from pmdarima) (67.7.2)\n",
            "Requirement already satisfied: python-dateutil>=2.8.1 in /usr/local/lib/python3.10/dist-packages (from pandas>=0.19->pmdarima) (2.8.2)\n",
            "Requirement already satisfied: pytz>=2020.1 in /usr/local/lib/python3.10/dist-packages (from pandas>=0.19->pmdarima) (2022.7.1)\n",
            "Requirement already satisfied: threadpoolctl>=2.0.0 in /usr/local/lib/python3.10/dist-packages (from scikit-learn>=0.22->pmdarima) (3.1.0)\n",
            "Requirement already satisfied: patsy>=0.5.2 in /usr/local/lib/python3.10/dist-packages (from statsmodels>=0.13.2->pmdarima) (0.5.3)\n",
            "Requirement already satisfied: packaging>=21.3 in /usr/local/lib/python3.10/dist-packages (from statsmodels>=0.13.2->pmdarima) (23.1)\n",
            "Requirement already satisfied: six in /usr/local/lib/python3.10/dist-packages (from patsy>=0.5.2->statsmodels>=0.13.2->pmdarima) (1.16.0)\n",
            "Installing collected packages: pmdarima\n",
            "Successfully installed pmdarima-2.0.3\n"
          ]
        }
      ]
    },
    {
      "cell_type": "code",
      "source": [
        "#para modelagem e previsão de séries temporais\n",
        "from pmdarima.arima import auto_arima"
      ],
      "metadata": {
        "id": "Oi2OA73P4bTY"
      },
      "execution_count": 4,
      "outputs": []
    },
    {
      "cell_type": "code",
      "source": [
        "# Transformando coluna data em índice com o index_col e parse_dates\n",
        "df = pd.read_excel('/content/temperature.xlsx', index_col='Date', parse_dates=True)\n",
        "df.head()"
      ],
      "metadata": {
        "colab": {
          "base_uri": "https://localhost:8080/",
          "height": 237
        },
        "id": "P0_2VPcd3LO_",
        "outputId": "922d1361-3f53-4c09-8842-411afdce68a0"
      },
      "execution_count": 6,
      "outputs": [
        {
          "output_type": "execute_result",
          "data": {
            "text/plain": [
              "            Daily minimum temperatures\n",
              "Date                                  \n",
              "1981-01-01                        20.7\n",
              "1981-02-01                        17.9\n",
              "1981-03-01                        18.8\n",
              "1981-04-01                        14.6\n",
              "1981-05-01                        15.8"
            ],
            "text/html": [
              "\n",
              "  <div id=\"df-e6ce05ab-0907-4200-8259-8e41d92c6ba5\">\n",
              "    <div class=\"colab-df-container\">\n",
              "      <div>\n",
              "<style scoped>\n",
              "    .dataframe tbody tr th:only-of-type {\n",
              "        vertical-align: middle;\n",
              "    }\n",
              "\n",
              "    .dataframe tbody tr th {\n",
              "        vertical-align: top;\n",
              "    }\n",
              "\n",
              "    .dataframe thead th {\n",
              "        text-align: right;\n",
              "    }\n",
              "</style>\n",
              "<table border=\"1\" class=\"dataframe\">\n",
              "  <thead>\n",
              "    <tr style=\"text-align: right;\">\n",
              "      <th></th>\n",
              "      <th>Daily minimum temperatures</th>\n",
              "    </tr>\n",
              "    <tr>\n",
              "      <th>Date</th>\n",
              "      <th></th>\n",
              "    </tr>\n",
              "  </thead>\n",
              "  <tbody>\n",
              "    <tr>\n",
              "      <th>1981-01-01</th>\n",
              "      <td>20.7</td>\n",
              "    </tr>\n",
              "    <tr>\n",
              "      <th>1981-02-01</th>\n",
              "      <td>17.9</td>\n",
              "    </tr>\n",
              "    <tr>\n",
              "      <th>1981-03-01</th>\n",
              "      <td>18.8</td>\n",
              "    </tr>\n",
              "    <tr>\n",
              "      <th>1981-04-01</th>\n",
              "      <td>14.6</td>\n",
              "    </tr>\n",
              "    <tr>\n",
              "      <th>1981-05-01</th>\n",
              "      <td>15.8</td>\n",
              "    </tr>\n",
              "  </tbody>\n",
              "</table>\n",
              "</div>\n",
              "      <button class=\"colab-df-convert\" onclick=\"convertToInteractive('df-e6ce05ab-0907-4200-8259-8e41d92c6ba5')\"\n",
              "              title=\"Convert this dataframe to an interactive table.\"\n",
              "              style=\"display:none;\">\n",
              "        \n",
              "  <svg xmlns=\"http://www.w3.org/2000/svg\" height=\"24px\"viewBox=\"0 0 24 24\"\n",
              "       width=\"24px\">\n",
              "    <path d=\"M0 0h24v24H0V0z\" fill=\"none\"/>\n",
              "    <path d=\"M18.56 5.44l.94 2.06.94-2.06 2.06-.94-2.06-.94-.94-2.06-.94 2.06-2.06.94zm-11 1L8.5 8.5l.94-2.06 2.06-.94-2.06-.94L8.5 2.5l-.94 2.06-2.06.94zm10 10l.94 2.06.94-2.06 2.06-.94-2.06-.94-.94-2.06-.94 2.06-2.06.94z\"/><path d=\"M17.41 7.96l-1.37-1.37c-.4-.4-.92-.59-1.43-.59-.52 0-1.04.2-1.43.59L10.3 9.45l-7.72 7.72c-.78.78-.78 2.05 0 2.83L4 21.41c.39.39.9.59 1.41.59.51 0 1.02-.2 1.41-.59l7.78-7.78 2.81-2.81c.8-.78.8-2.07 0-2.86zM5.41 20L4 18.59l7.72-7.72 1.47 1.35L5.41 20z\"/>\n",
              "  </svg>\n",
              "      </button>\n",
              "      \n",
              "  <style>\n",
              "    .colab-df-container {\n",
              "      display:flex;\n",
              "      flex-wrap:wrap;\n",
              "      gap: 12px;\n",
              "    }\n",
              "\n",
              "    .colab-df-convert {\n",
              "      background-color: #E8F0FE;\n",
              "      border: none;\n",
              "      border-radius: 50%;\n",
              "      cursor: pointer;\n",
              "      display: none;\n",
              "      fill: #1967D2;\n",
              "      height: 32px;\n",
              "      padding: 0 0 0 0;\n",
              "      width: 32px;\n",
              "    }\n",
              "\n",
              "    .colab-df-convert:hover {\n",
              "      background-color: #E2EBFA;\n",
              "      box-shadow: 0px 1px 2px rgba(60, 64, 67, 0.3), 0px 1px 3px 1px rgba(60, 64, 67, 0.15);\n",
              "      fill: #174EA6;\n",
              "    }\n",
              "\n",
              "    [theme=dark] .colab-df-convert {\n",
              "      background-color: #3B4455;\n",
              "      fill: #D2E3FC;\n",
              "    }\n",
              "\n",
              "    [theme=dark] .colab-df-convert:hover {\n",
              "      background-color: #434B5C;\n",
              "      box-shadow: 0px 1px 3px 1px rgba(0, 0, 0, 0.15);\n",
              "      filter: drop-shadow(0px 1px 2px rgba(0, 0, 0, 0.3));\n",
              "      fill: #FFFFFF;\n",
              "    }\n",
              "  </style>\n",
              "\n",
              "      <script>\n",
              "        const buttonEl =\n",
              "          document.querySelector('#df-e6ce05ab-0907-4200-8259-8e41d92c6ba5 button.colab-df-convert');\n",
              "        buttonEl.style.display =\n",
              "          google.colab.kernel.accessAllowed ? 'block' : 'none';\n",
              "\n",
              "        async function convertToInteractive(key) {\n",
              "          const element = document.querySelector('#df-e6ce05ab-0907-4200-8259-8e41d92c6ba5');\n",
              "          const dataTable =\n",
              "            await google.colab.kernel.invokeFunction('convertToInteractive',\n",
              "                                                     [key], {});\n",
              "          if (!dataTable) return;\n",
              "\n",
              "          const docLinkHtml = 'Like what you see? Visit the ' +\n",
              "            '<a target=\"_blank\" href=https://colab.research.google.com/notebooks/data_table.ipynb>data table notebook</a>'\n",
              "            + ' to learn more about interactive tables.';\n",
              "          element.innerHTML = '';\n",
              "          dataTable['output_type'] = 'display_data';\n",
              "          await google.colab.output.renderOutput(dataTable, element);\n",
              "          const docLink = document.createElement('div');\n",
              "          docLink.innerHTML = docLinkHtml;\n",
              "          element.appendChild(docLink);\n",
              "        }\n",
              "      </script>\n",
              "    </div>\n",
              "  </div>\n",
              "  "
            ]
          },
          "metadata": {},
          "execution_count": 6
        }
      ]
    },
    {
      "cell_type": "code",
      "source": [
        "df.info()"
      ],
      "metadata": {
        "colab": {
          "base_uri": "https://localhost:8080/"
        },
        "id": "oPJ92FzK5NFR",
        "outputId": "9bc67cf6-bd98-4f88-a22c-53846ccca96b"
      },
      "execution_count": 7,
      "outputs": [
        {
          "output_type": "stream",
          "name": "stdout",
          "text": [
            "<class 'pandas.core.frame.DataFrame'>\n",
            "DatetimeIndex: 3647 entries, 1981-01-01 to 1990-12-31\n",
            "Data columns (total 1 columns):\n",
            " #   Column                      Non-Null Count  Dtype  \n",
            "---  ------                      --------------  -----  \n",
            " 0   Daily minimum temperatures  3647 non-null   float64\n",
            "dtypes: float64(1)\n",
            "memory usage: 57.0 KB\n"
          ]
        }
      ]
    },
    {
      "cell_type": "code",
      "source": [
        "#converter os valores da coluna para o tipo float.\n",
        "df['Daily minimum temperatures'] = df['Daily minimum temperatures'].astype(float)"
      ],
      "metadata": {
        "id": "43tR_GjN5h7J"
      },
      "execution_count": 8,
      "outputs": []
    },
    {
      "cell_type": "code",
      "source": [
        "df.info()"
      ],
      "metadata": {
        "colab": {
          "base_uri": "https://localhost:8080/"
        },
        "id": "BqMJGEZf7L4S",
        "outputId": "14358693-8261-4a7c-fc45-4a333807b5b9"
      },
      "execution_count": 9,
      "outputs": [
        {
          "output_type": "stream",
          "name": "stdout",
          "text": [
            "<class 'pandas.core.frame.DataFrame'>\n",
            "DatetimeIndex: 3647 entries, 1981-01-01 to 1990-12-31\n",
            "Data columns (total 1 columns):\n",
            " #   Column                      Non-Null Count  Dtype  \n",
            "---  ------                      --------------  -----  \n",
            " 0   Daily minimum temperatures  3647 non-null   float64\n",
            "dtypes: float64(1)\n",
            "memory usage: 57.0 KB\n"
          ]
        }
      ]
    },
    {
      "cell_type": "code",
      "source": [
        "df.head()"
      ],
      "metadata": {
        "colab": {
          "base_uri": "https://localhost:8080/",
          "height": 237
        },
        "id": "g3v3C39C7Q2i",
        "outputId": "1ecc7596-e82c-4bcf-afc3-95cf5080a217"
      },
      "execution_count": 10,
      "outputs": [
        {
          "output_type": "execute_result",
          "data": {
            "text/plain": [
              "            Daily minimum temperatures\n",
              "Date                                  \n",
              "1981-01-01                        20.7\n",
              "1981-02-01                        17.9\n",
              "1981-03-01                        18.8\n",
              "1981-04-01                        14.6\n",
              "1981-05-01                        15.8"
            ],
            "text/html": [
              "\n",
              "  <div id=\"df-575ed3bd-fca4-4bbf-8f5c-92eec816cfa3\">\n",
              "    <div class=\"colab-df-container\">\n",
              "      <div>\n",
              "<style scoped>\n",
              "    .dataframe tbody tr th:only-of-type {\n",
              "        vertical-align: middle;\n",
              "    }\n",
              "\n",
              "    .dataframe tbody tr th {\n",
              "        vertical-align: top;\n",
              "    }\n",
              "\n",
              "    .dataframe thead th {\n",
              "        text-align: right;\n",
              "    }\n",
              "</style>\n",
              "<table border=\"1\" class=\"dataframe\">\n",
              "  <thead>\n",
              "    <tr style=\"text-align: right;\">\n",
              "      <th></th>\n",
              "      <th>Daily minimum temperatures</th>\n",
              "    </tr>\n",
              "    <tr>\n",
              "      <th>Date</th>\n",
              "      <th></th>\n",
              "    </tr>\n",
              "  </thead>\n",
              "  <tbody>\n",
              "    <tr>\n",
              "      <th>1981-01-01</th>\n",
              "      <td>20.7</td>\n",
              "    </tr>\n",
              "    <tr>\n",
              "      <th>1981-02-01</th>\n",
              "      <td>17.9</td>\n",
              "    </tr>\n",
              "    <tr>\n",
              "      <th>1981-03-01</th>\n",
              "      <td>18.8</td>\n",
              "    </tr>\n",
              "    <tr>\n",
              "      <th>1981-04-01</th>\n",
              "      <td>14.6</td>\n",
              "    </tr>\n",
              "    <tr>\n",
              "      <th>1981-05-01</th>\n",
              "      <td>15.8</td>\n",
              "    </tr>\n",
              "  </tbody>\n",
              "</table>\n",
              "</div>\n",
              "      <button class=\"colab-df-convert\" onclick=\"convertToInteractive('df-575ed3bd-fca4-4bbf-8f5c-92eec816cfa3')\"\n",
              "              title=\"Convert this dataframe to an interactive table.\"\n",
              "              style=\"display:none;\">\n",
              "        \n",
              "  <svg xmlns=\"http://www.w3.org/2000/svg\" height=\"24px\"viewBox=\"0 0 24 24\"\n",
              "       width=\"24px\">\n",
              "    <path d=\"M0 0h24v24H0V0z\" fill=\"none\"/>\n",
              "    <path d=\"M18.56 5.44l.94 2.06.94-2.06 2.06-.94-2.06-.94-.94-2.06-.94 2.06-2.06.94zm-11 1L8.5 8.5l.94-2.06 2.06-.94-2.06-.94L8.5 2.5l-.94 2.06-2.06.94zm10 10l.94 2.06.94-2.06 2.06-.94-2.06-.94-.94-2.06-.94 2.06-2.06.94z\"/><path d=\"M17.41 7.96l-1.37-1.37c-.4-.4-.92-.59-1.43-.59-.52 0-1.04.2-1.43.59L10.3 9.45l-7.72 7.72c-.78.78-.78 2.05 0 2.83L4 21.41c.39.39.9.59 1.41.59.51 0 1.02-.2 1.41-.59l7.78-7.78 2.81-2.81c.8-.78.8-2.07 0-2.86zM5.41 20L4 18.59l7.72-7.72 1.47 1.35L5.41 20z\"/>\n",
              "  </svg>\n",
              "      </button>\n",
              "      \n",
              "  <style>\n",
              "    .colab-df-container {\n",
              "      display:flex;\n",
              "      flex-wrap:wrap;\n",
              "      gap: 12px;\n",
              "    }\n",
              "\n",
              "    .colab-df-convert {\n",
              "      background-color: #E8F0FE;\n",
              "      border: none;\n",
              "      border-radius: 50%;\n",
              "      cursor: pointer;\n",
              "      display: none;\n",
              "      fill: #1967D2;\n",
              "      height: 32px;\n",
              "      padding: 0 0 0 0;\n",
              "      width: 32px;\n",
              "    }\n",
              "\n",
              "    .colab-df-convert:hover {\n",
              "      background-color: #E2EBFA;\n",
              "      box-shadow: 0px 1px 2px rgba(60, 64, 67, 0.3), 0px 1px 3px 1px rgba(60, 64, 67, 0.15);\n",
              "      fill: #174EA6;\n",
              "    }\n",
              "\n",
              "    [theme=dark] .colab-df-convert {\n",
              "      background-color: #3B4455;\n",
              "      fill: #D2E3FC;\n",
              "    }\n",
              "\n",
              "    [theme=dark] .colab-df-convert:hover {\n",
              "      background-color: #434B5C;\n",
              "      box-shadow: 0px 1px 3px 1px rgba(0, 0, 0, 0.15);\n",
              "      filter: drop-shadow(0px 1px 2px rgba(0, 0, 0, 0.3));\n",
              "      fill: #FFFFFF;\n",
              "    }\n",
              "  </style>\n",
              "\n",
              "      <script>\n",
              "        const buttonEl =\n",
              "          document.querySelector('#df-575ed3bd-fca4-4bbf-8f5c-92eec816cfa3 button.colab-df-convert');\n",
              "        buttonEl.style.display =\n",
              "          google.colab.kernel.accessAllowed ? 'block' : 'none';\n",
              "\n",
              "        async function convertToInteractive(key) {\n",
              "          const element = document.querySelector('#df-575ed3bd-fca4-4bbf-8f5c-92eec816cfa3');\n",
              "          const dataTable =\n",
              "            await google.colab.kernel.invokeFunction('convertToInteractive',\n",
              "                                                     [key], {});\n",
              "          if (!dataTable) return;\n",
              "\n",
              "          const docLinkHtml = 'Like what you see? Visit the ' +\n",
              "            '<a target=\"_blank\" href=https://colab.research.google.com/notebooks/data_table.ipynb>data table notebook</a>'\n",
              "            + ' to learn more about interactive tables.';\n",
              "          element.innerHTML = '';\n",
              "          dataTable['output_type'] = 'display_data';\n",
              "          await google.colab.output.renderOutput(dataTable, element);\n",
              "          const docLink = document.createElement('div');\n",
              "          docLink.innerHTML = docLinkHtml;\n",
              "          element.appendChild(docLink);\n",
              "        }\n",
              "      </script>\n",
              "    </div>\n",
              "  </div>\n",
              "  "
            ]
          },
          "metadata": {},
          "execution_count": 10
        }
      ]
    },
    {
      "cell_type": "code",
      "source": [
        "#Plotando um gráfico plotly para verificar tendências\n",
        "df['Daily minimum temperatures'].plot(figsize=(10,6))"
      ],
      "metadata": {
        "colab": {
          "base_uri": "https://localhost:8080/",
          "height": 539
        },
        "id": "YElwT9Ot7WqM",
        "outputId": "b06c6121-0c26-4d6d-8d64-d0700eb882e3"
      },
      "execution_count": null,
      "outputs": [
        {
          "output_type": "execute_result",
          "data": {
            "text/plain": [
              "<Axes: >"
            ]
          },
          "metadata": {},
          "execution_count": 14
        },
        {
          "output_type": "display_data",
          "data": {
            "text/plain": [
              "<Figure size 1000x600 with 1 Axes>"
            ],
            "image/png": "[encoded data removed]"
          },
          "metadata": {}
        }
      ]
    },
    {
      "cell_type": "code",
      "source": [
        "df.head()"
      ],
      "metadata": {
        "colab": {
          "base_uri": "https://localhost:8080/",
          "height": 237
        },
        "id": "-JfbwaZI8Cqq",
        "outputId": "54971e9b-bced-44d3-8aae-2bad502d4fb9"
      },
      "execution_count": 11,
      "outputs": [
        {
          "output_type": "execute_result",
          "data": {
            "text/plain": [
              "            Daily minimum temperatures\n",
              "Date                                  \n",
              "1981-01-01                        20.7\n",
              "1981-02-01                        17.9\n",
              "1981-03-01                        18.8\n",
              "1981-04-01                        14.6\n",
              "1981-05-01                        15.8"
            ],
            "text/html": [
              "\n",
              "  <div id=\"df-0a54f001-46ca-4b1a-aa5b-cd380dc80e83\">\n",
              "    <div class=\"colab-df-container\">\n",
              "      <div>\n",
              "<style scoped>\n",
              "    .dataframe tbody tr th:only-of-type {\n",
              "        vertical-align: middle;\n",
              "    }\n",
              "\n",
              "    .dataframe tbody tr th {\n",
              "        vertical-align: top;\n",
              "    }\n",
              "\n",
              "    .dataframe thead th {\n",
              "        text-align: right;\n",
              "    }\n",
              "</style>\n",
              "<table border=\"1\" class=\"dataframe\">\n",
              "  <thead>\n",
              "    <tr style=\"text-align: right;\">\n",
              "      <th></th>\n",
              "      <th>Daily minimum temperatures</th>\n",
              "    </tr>\n",
              "    <tr>\n",
              "      <th>Date</th>\n",
              "      <th></th>\n",
              "    </tr>\n",
              "  </thead>\n",
              "  <tbody>\n",
              "    <tr>\n",
              "      <th>1981-01-01</th>\n",
              "      <td>20.7</td>\n",
              "    </tr>\n",
              "    <tr>\n",
              "      <th>1981-02-01</th>\n",
              "      <td>17.9</td>\n",
              "    </tr>\n",
              "    <tr>\n",
              "      <th>1981-03-01</th>\n",
              "      <td>18.8</td>\n",
              "    </tr>\n",
              "    <tr>\n",
              "      <th>1981-04-01</th>\n",
              "      <td>14.6</td>\n",
              "    </tr>\n",
              "    <tr>\n",
              "      <th>1981-05-01</th>\n",
              "      <td>15.8</td>\n",
              "    </tr>\n",
              "  </tbody>\n",
              "</table>\n",
              "</div>\n",
              "      <button class=\"colab-df-convert\" onclick=\"convertToInteractive('df-0a54f001-46ca-4b1a-aa5b-cd380dc80e83')\"\n",
              "              title=\"Convert this dataframe to an interactive table.\"\n",
              "              style=\"display:none;\">\n",
              "        \n",
              "  <svg xmlns=\"http://www.w3.org/2000/svg\" height=\"24px\"viewBox=\"0 0 24 24\"\n",
              "       width=\"24px\">\n",
              "    <path d=\"M0 0h24v24H0V0z\" fill=\"none\"/>\n",
              "    <path d=\"M18.56 5.44l.94 2.06.94-2.06 2.06-.94-2.06-.94-.94-2.06-.94 2.06-2.06.94zm-11 1L8.5 8.5l.94-2.06 2.06-.94-2.06-.94L8.5 2.5l-.94 2.06-2.06.94zm10 10l.94 2.06.94-2.06 2.06-.94-2.06-.94-.94-2.06-.94 2.06-2.06.94z\"/><path d=\"M17.41 7.96l-1.37-1.37c-.4-.4-.92-.59-1.43-.59-.52 0-1.04.2-1.43.59L10.3 9.45l-7.72 7.72c-.78.78-.78 2.05 0 2.83L4 21.41c.39.39.9.59 1.41.59.51 0 1.02-.2 1.41-.59l7.78-7.78 2.81-2.81c.8-.78.8-2.07 0-2.86zM5.41 20L4 18.59l7.72-7.72 1.47 1.35L5.41 20z\"/>\n",
              "  </svg>\n",
              "      </button>\n",
              "      \n",
              "  <style>\n",
              "    .colab-df-container {\n",
              "      display:flex;\n",
              "      flex-wrap:wrap;\n",
              "      gap: 12px;\n",
              "    }\n",
              "\n",
              "    .colab-df-convert {\n",
              "      background-color: #E8F0FE;\n",
              "      border: none;\n",
              "      border-radius: 50%;\n",
              "      cursor: pointer;\n",
              "      display: none;\n",
              "      fill: #1967D2;\n",
              "      height: 32px;\n",
              "      padding: 0 0 0 0;\n",
              "      width: 32px;\n",
              "    }\n",
              "\n",
              "    .colab-df-convert:hover {\n",
              "      background-color: #E2EBFA;\n",
              "      box-shadow: 0px 1px 2px rgba(60, 64, 67, 0.3), 0px 1px 3px 1px rgba(60, 64, 67, 0.15);\n",
              "      fill: #174EA6;\n",
              "    }\n",
              "\n",
              "    [theme=dark] .colab-df-convert {\n",
              "      background-color: #3B4455;\n",
              "      fill: #D2E3FC;\n",
              "    }\n",
              "\n",
              "    [theme=dark] .colab-df-convert:hover {\n",
              "      background-color: #434B5C;\n",
              "      box-shadow: 0px 1px 3px 1px rgba(0, 0, 0, 0.15);\n",
              "      filter: drop-shadow(0px 1px 2px rgba(0, 0, 0, 0.3));\n",
              "      fill: #FFFFFF;\n",
              "    }\n",
              "  </style>\n",
              "\n",
              "      <script>\n",
              "        const buttonEl =\n",
              "          document.querySelector('#df-0a54f001-46ca-4b1a-aa5b-cd380dc80e83 button.colab-df-convert');\n",
              "        buttonEl.style.display =\n",
              "          google.colab.kernel.accessAllowed ? 'block' : 'none';\n",
              "\n",
              "        async function convertToInteractive(key) {\n",
              "          const element = document.querySelector('#df-0a54f001-46ca-4b1a-aa5b-cd380dc80e83');\n",
              "          const dataTable =\n",
              "            await google.colab.kernel.invokeFunction('convertToInteractive',\n",
              "                                                     [key], {});\n",
              "          if (!dataTable) return;\n",
              "\n",
              "          const docLinkHtml = 'Like what you see? Visit the ' +\n",
              "            '<a target=\"_blank\" href=https://colab.research.google.com/notebooks/data_table.ipynb>data table notebook</a>'\n",
              "            + ' to learn more about interactive tables.';\n",
              "          element.innerHTML = '';\n",
              "          dataTable['output_type'] = 'display_data';\n",
              "          await google.colab.output.renderOutput(dataTable, element);\n",
              "          const docLink = document.createElement('div');\n",
              "          docLink.innerHTML = docLinkHtml;\n",
              "          element.appendChild(docLink);\n",
              "        }\n",
              "      </script>\n",
              "    </div>\n",
              "  </div>\n",
              "  "
            ]
          },
          "metadata": {},
          "execution_count": 11
        }
      ]
    },
    {
      "cell_type": "code",
      "source": [
        "df.sort_index(inplace=True)"
      ],
      "metadata": {
        "id": "dHKDMYYn70KH"
      },
      "execution_count": 12,
      "outputs": []
    },
    {
      "cell_type": "code",
      "source": [
        "#plotando gráfico com tendências, sazionalidade e resíduos\n",
        "\n",
        "from statsmodels.tsa.seasonal import seasonal_decompose\n",
        "\n",
        "resultado = seasonal_decompose(df, model=\"add\",period=365)\n",
        "\n",
        "fig = plt.figure(figsize=(8, 6))  \n",
        "fig = resultado.plot()"
      ],
      "metadata": {
        "colab": {
          "base_uri": "https://localhost:8080/",
          "height": 504
        },
        "id": "Nc0-Un2J-Roz",
        "outputId": "a2065383-ca8b-438e-9087-6bc6ab6ff6d4"
      },
      "execution_count": 13,
      "outputs": [
        {
          "output_type": "display_data",
          "data": {
            "text/plain": [
              "<Figure size 800x600 with 0 Axes>"
            ]
          },
          "metadata": {}
        },
        {
          "output_type": "display_data",
          "data": {
            "text/plain": [
              "<Figure size 640x480 with 4 Axes>"
            ],
            "image/png": "[encoded data removed]"
          },
          "metadata": {}
        }
      ]
    },
    {
      "cell_type": "code",
      "source": [
        "# Teste de estacionariedade. \n",
        "# A hipótese nula é que a série não é estacionária\n",
        "# Ou seja, se o p-valor for menor que 0,05, rejeitamos a hipótese nula\n",
        "# que a série não é estacionária. Caso seja maior, não podemos\n",
        "# descartar que a série não é estacionária\n",
        "from statsmodels.tsa.stattools import adfuller\n",
        "\n",
        "result=adfuller(df['Daily minimum temperatures'].dropna())\n",
        "print(f'Teste ADF:{result[0]}')\n",
        "print(f'p-valor:{result[1]}')"
      ],
      "metadata": {
        "colab": {
          "base_uri": "https://localhost:8080/"
        },
        "id": "cOqkcGVXKFrX",
        "outputId": "86f66961-6962-4554-c6a2-b21293569159"
      },
      "execution_count": 14,
      "outputs": [
        {
          "output_type": "stream",
          "name": "stdout",
          "text": [
            "Teste ADF:-3.331541412968857\n",
            "p-valor:0.01352611219545271\n"
          ]
        }
      ]
    },
    {
      "cell_type": "code",
      "source": [
        "#Buscando os melhores parâmetros com o auto Arima\n",
        "#Escolhendo o modelo a ser usado.\n",
        "fit_arima = auto_arima(df, d=1, start_p=1, start_q=1, max_p=3, max_q=3,\n",
        "                       seasonal=True,\n",
        "                       m=6,\n",
        "                       D=1,\n",
        "                       start_P=1,\n",
        "                       start_Q=1,\n",
        "                       max_P=2,\n",
        "                       max_Q=2,\n",
        "                       information_criterion='aic',\n",
        "                       trace=True,\n",
        "                       error_action='ignore',\n",
        "                       stepwise=True)"
      ],
      "metadata": {
        "colab": {
          "base_uri": "https://localhost:8080/"
        },
        "id": "RdD23Y6pLe57",
        "outputId": "b73c158f-207e-49dc-c088-0c086d834bb5"
      },
      "execution_count": 15,
      "outputs": [
        {
          "output_type": "stream",
          "name": "stdout",
          "text": [
            "Performing stepwise search to minimize aic\n",
            " ARIMA(1,1,1)(1,1,1)[6]             : AIC=inf, Time=19.85 sec\n",
            " ARIMA(0,1,0)(0,1,0)[6]             : AIC=22211.573, Time=0.12 sec\n",
            " ARIMA(1,1,0)(1,1,0)[6]             : AIC=20978.709, Time=0.85 sec\n",
            " ARIMA(0,1,1)(0,1,1)[6]             : AIC=inf, Time=4.86 sec\n",
            " ARIMA(1,1,0)(0,1,0)[6]             : AIC=22068.931, Time=0.24 sec\n",
            " ARIMA(1,1,0)(2,1,0)[6]             : AIC=20482.431, Time=2.35 sec\n",
            " ARIMA(1,1,0)(2,1,1)[6]             : AIC=inf, Time=16.86 sec\n",
            " ARIMA(1,1,0)(1,1,1)[6]             : AIC=inf, Time=8.22 sec\n",
            " ARIMA(0,1,0)(2,1,0)[6]             : AIC=20662.364, Time=1.89 sec\n",
            " ARIMA(2,1,0)(2,1,0)[6]             : AIC=20418.687, Time=2.35 sec\n",
            " ARIMA(2,1,0)(1,1,0)[6]             : AIC=20927.151, Time=1.29 sec\n",
            " ARIMA(2,1,0)(2,1,1)[6]             : AIC=inf, Time=18.69 sec\n",
            " ARIMA(2,1,0)(1,1,1)[6]             : AIC=inf, Time=10.50 sec\n",
            " ARIMA(3,1,0)(2,1,0)[6]             : AIC=20352.684, Time=2.57 sec\n",
            " ARIMA(3,1,0)(1,1,0)[6]             : AIC=20872.994, Time=1.58 sec\n",
            " ARIMA(3,1,0)(2,1,1)[6]             : AIC=inf, Time=22.92 sec\n",
            " ARIMA(3,1,0)(1,1,1)[6]             : AIC=inf, Time=12.10 sec\n",
            " ARIMA(3,1,1)(2,1,0)[6]             : AIC=inf, Time=23.66 sec\n",
            " ARIMA(2,1,1)(2,1,0)[6]             : AIC=inf, Time=18.13 sec\n",
            " ARIMA(3,1,0)(2,1,0)[6] intercept   : AIC=20354.683, Time=8.79 sec\n",
            "\n",
            "Best model:  ARIMA(3,1,0)(2,1,0)[6]          \n",
            "Total fit time: 177.871 seconds\n"
          ]
        }
      ]
    },
    {
      "cell_type": "code",
      "source": [
        "#melhores parâmetros identificados, agora vamos a criação de um modelo Sarimax\n",
        "#(Versão do arima com parametros para sazonalidade)\n",
        "from statsmodels.tsa.statespace.sarimax import SARIMAX\n",
        "\n",
        "model = SARIMAX(df, order=(3,1,0))\n",
        "resultado_sarimax = model.fit()"
      ],
      "metadata": {
        "colab": {
          "base_uri": "https://localhost:8080/"
        },
        "id": "MZ3AiLzPN7Gs",
        "outputId": "a435a89d-ce3a-4690-a3d5-095127b51602"
      },
      "execution_count": 17,
      "outputs": [
        {
          "output_type": "stream",
          "name": "stderr",
          "text": [
            "/usr/local/lib/python3.10/dist-packages/statsmodels/tsa/base/tsa_model.py:471: ValueWarning: A date index has been provided, but it has no associated frequency information and so will be ignored when e.g. forecasting.\n",
            "  self._init_dates(dates, freq)\n",
            "/usr/local/lib/python3.10/dist-packages/statsmodels/tsa/base/tsa_model.py:471: ValueWarning: A date index has been provided, but it has no associated frequency information and so will be ignored when e.g. forecasting.\n",
            "  self._init_dates(dates, freq)\n"
          ]
        }
      ]
    },
    {
      "cell_type": "code",
      "source": [
        "#Resultado do modelo SARIMAX(3,1,0)\n",
        "resultado_sarimax.summary()"
      ],
      "metadata": {
        "colab": {
          "base_uri": "https://localhost:8080/",
          "height": 444
        },
        "id": "y7q9f7i9OsnS",
        "outputId": "cb51411c-cbea-4488-c69c-e8c97dda03e0"
      },
      "execution_count": 18,
      "outputs": [
        {
          "output_type": "execute_result",
          "data": {
            "text/plain": [
              "<class 'statsmodels.iolib.summary.Summary'>\n",
              "\"\"\"\n",
              "                                   SARIMAX Results                                    \n",
              "======================================================================================\n",
              "Dep. Variable:     Daily minimum temperatures   No. Observations:                 3647\n",
              "Model:                       SARIMAX(3, 1, 0)   Log Likelihood               -9612.137\n",
              "Date:                        Mon, 15 May 2023   AIC                          19232.275\n",
              "Time:                                21:05:17   BIC                          19257.080\n",
              "Sample:                                     0   HQIC                         19241.109\n",
              "                                       - 3647                                         \n",
              "Covariance Type:                          opg                                         \n",
              "==============================================================================\n",
              "                 coef    std err          z      P>|z|      [0.025      0.975]\n",
              "------------------------------------------------------------------------------\n",
              "ar.L1         -0.2906      0.015    -19.257      0.000      -0.320      -0.261\n",
              "ar.L2         -0.1721      0.015    -11.262      0.000      -0.202      -0.142\n",
              "ar.L3         -0.1215      0.016     -7.719      0.000      -0.152      -0.091\n",
              "sigma2        11.4141      0.224     51.061      0.000      10.976      11.852\n",
              "===================================================================================\n",
              "Ljung-Box (L1) (Q):                   0.77   Jarque-Bera (JB):               117.31\n",
              "Prob(Q):                              0.38   Prob(JB):                         0.00\n",
              "Heteroskedasticity (H):               0.87   Skew:                             0.01\n",
              "Prob(H) (two-sided):                  0.01   Kurtosis:                         3.88\n",
              "===================================================================================\n",
              "\n",
              "Warnings:\n",
              "[1] Covariance matrix calculated using the outer product of gradients (complex-step).\n",
              "\"\"\""
            ],
            "text/html": [
              "<table class=\"simpletable\">\n",
              "<caption>SARIMAX Results</caption>\n",
              "<tr>\n",
              "  <th>Dep. Variable:</th>   <td>Daily minimum temperatures</td> <th>  No. Observations:  </th>   <td>3647</td>   \n",
              "</tr>\n",
              "<tr>\n",
              "  <th>Model:</th>                <td>SARIMAX(3, 1, 0)</td>      <th>  Log Likelihood     </th> <td>-9612.137</td>\n",
              "</tr>\n",
              "<tr>\n",
              "  <th>Date:</th>                 <td>Mon, 15 May 2023</td>      <th>  AIC                </th> <td>19232.275</td>\n",
              "</tr>\n",
              "<tr>\n",
              "  <th>Time:</th>                     <td>21:05:17</td>          <th>  BIC                </th> <td>19257.080</td>\n",
              "</tr>\n",
              "<tr>\n",
              "  <th>Sample:</th>                       <td>0</td>             <th>  HQIC               </th> <td>19241.109</td>\n",
              "</tr>\n",
              "<tr>\n",
              "  <th></th>                           <td> - 3647</td>          <th>                     </th>     <td> </td>    \n",
              "</tr>\n",
              "<tr>\n",
              "  <th>Covariance Type:</th>             <td>opg</td>            <th>                     </th>     <td> </td>    \n",
              "</tr>\n",
              "</table>\n",
              "<table class=\"simpletable\">\n",
              "<tr>\n",
              "     <td></td>       <th>coef</th>     <th>std err</th>      <th>z</th>      <th>P>|z|</th>  <th>[0.025</th>    <th>0.975]</th>  \n",
              "</tr>\n",
              "<tr>\n",
              "  <th>ar.L1</th>  <td>   -0.2906</td> <td>    0.015</td> <td>  -19.257</td> <td> 0.000</td> <td>   -0.320</td> <td>   -0.261</td>\n",
              "</tr>\n",
              "<tr>\n",
              "  <th>ar.L2</th>  <td>   -0.1721</td> <td>    0.015</td> <td>  -11.262</td> <td> 0.000</td> <td>   -0.202</td> <td>   -0.142</td>\n",
              "</tr>\n",
              "<tr>\n",
              "  <th>ar.L3</th>  <td>   -0.1215</td> <td>    0.016</td> <td>   -7.719</td> <td> 0.000</td> <td>   -0.152</td> <td>   -0.091</td>\n",
              "</tr>\n",
              "<tr>\n",
              "  <th>sigma2</th> <td>   11.4141</td> <td>    0.224</td> <td>   51.061</td> <td> 0.000</td> <td>   10.976</td> <td>   11.852</td>\n",
              "</tr>\n",
              "</table>\n",
              "<table class=\"simpletable\">\n",
              "<tr>\n",
              "  <th>Ljung-Box (L1) (Q):</th>     <td>0.77</td> <th>  Jarque-Bera (JB):  </th> <td>117.31</td>\n",
              "</tr>\n",
              "<tr>\n",
              "  <th>Prob(Q):</th>                <td>0.38</td> <th>  Prob(JB):          </th>  <td>0.00</td> \n",
              "</tr>\n",
              "<tr>\n",
              "  <th>Heteroskedasticity (H):</th> <td>0.87</td> <th>  Skew:              </th>  <td>0.01</td> \n",
              "</tr>\n",
              "<tr>\n",
              "  <th>Prob(H) (two-sided):</th>    <td>0.01</td> <th>  Kurtosis:          </th>  <td>3.88</td> \n",
              "</tr>\n",
              "</table><br/><br/>Warnings:<br/>[1] Covariance matrix calculated using the outer product of gradients (complex-step)."
            ]
          },
          "metadata": {},
          "execution_count": 18
        }
      ]
    },
    {
      "cell_type": "code",
      "source": [
        "#vamos realizar um 'backtesting' com predições de valores dos 12 meses anteriores\n",
        "predicoes = resultado_sarimax.get_prediction(start=-60)\n",
        "predicao_media = predicoes.predicted_mean\n"
      ],
      "metadata": {
        "id": "BbGyl3IRPBEA"
      },
      "execution_count": 19,
      "outputs": []
    },
    {
      "cell_type": "code",
      "source": [
        "#Intervalo de confiança\n",
        "intervalo_confianca = predicoes.conf_int()\n",
        "limites_abaixo = intervalo_confianca.iloc[:,0]\n",
        "limites_acima = intervalo_confianca.iloc[:,1]\n",
        "\n",
        "limites_abaixo[0], limites_acima[0]"
      ],
      "metadata": {
        "colab": {
          "base_uri": "https://localhost:8080/"
        },
        "id": "a8jzEIh2Pu2p",
        "outputId": "d15492c1-c691-4aee-ff61-bf1e6cfc39cf"
      },
      "execution_count": 21,
      "outputs": [
        {
          "output_type": "execute_result",
          "data": {
            "text/plain": [
              "(13.215902333969314, 26.45930394097881)"
            ]
          },
          "metadata": {},
          "execution_count": 21
        }
      ]
    },
    {
      "cell_type": "code",
      "source": [
        "predicao_media[0]"
      ],
      "metadata": {
        "colab": {
          "base_uri": "https://localhost:8080/"
        },
        "id": "yoHRKQMHQsch",
        "outputId": "9663b9f1-0d16-415f-955f-950b5f7b7237"
      },
      "execution_count": 22,
      "outputs": [
        {
          "output_type": "execute_result",
          "data": {
            "text/plain": [
              "19.837603137474062"
            ]
          },
          "metadata": {},
          "execution_count": 22
        }
      ]
    },
    {
      "cell_type": "code",
      "source": [
        "datas_previsao = np.asarray(predicao_media.index)\n",
        "datas = np.asarray(df.index)"
      ],
      "metadata": {
        "id": "AJ41OpNRWcyL"
      },
      "execution_count": 24,
      "outputs": []
    },
    {
      "cell_type": "code",
      "source": [
        "plt.figure(figsize=(15,6))\n",
        "plt.plot(datas_previsao, predicao_media.values, color='red', label='prediction')\n",
        "plt.fill_between(datas_previsao, limites_abaixo, limites_acima, color='red')\n",
        "plt.plot(datas, df.values, label='real')\n",
        "plt.legend()\n",
        "plt.show()"
      ],
      "metadata": {
        "colab": {
          "base_uri": "https://localhost:8080/",
          "height": 522
        },
        "id": "WcPvT4O-QynU",
        "outputId": "7e947ade-b6c7-4d12-ba1e-2d6ccac0d075"
      },
      "execution_count": 27,
      "outputs": [
        {
          "output_type": "display_data",
          "data": {
            "text/plain": [
              "<Figure size 1500x600 with 1 Axes>"
            ],
            "image/png": "[encoded data removed]"
          },
          "metadata": {}
        }
      ]
    },
    {
      "cell_type": "code",
      "source": [
        "from sklearn.metrics import mean_squared_error\n",
        "from math import sqrt\n",
        "\n",
        "rmse_sarima = sqrt(mean_squared_error(df[-60:].values,predicao_media.values))\n",
        "print(rmse_sarima)"
      ],
      "metadata": {
        "colab": {
          "base_uri": "https://localhost:8080/"
        },
        "id": "Cg0BLYGrXFgk",
        "outputId": "154a8f91-145a-4760-8d3b-f363520eaab0"
      },
      "execution_count": 29,
      "outputs": [
        {
          "output_type": "stream",
          "name": "stdout",
          "text": [
            "3.012457329818421\n"
          ]
        }
      ]
    },
    {
      "cell_type": "markdown",
      "source": [
        "# PREVENDO COM XGBoost"
      ],
      "metadata": {
        "id": "zQQsfzvdYFIF"
      }
    },
    {
      "cell_type": "code",
      "source": [
        "from xgboost import XGBRegressor"
      ],
      "metadata": {
        "id": "ddCtPiRrYJNL"
      },
      "execution_count": 30,
      "outputs": []
    },
    {
      "cell_type": "code",
      "source": [
        "treino = df.loc[df.index <= '1988-12-31']\n",
        "validacao = df.loc[df.index > '1989-01-01']\n",
        "\n",
        "treino.shape, validacao.shape"
      ],
      "metadata": {
        "colab": {
          "base_uri": "https://localhost:8080/"
        },
        "id": "_ARWqh5xYSjc",
        "outputId": "7d6c3ffe-a93a-467a-af0a-417df871490c"
      },
      "execution_count": 31,
      "outputs": [
        {
          "output_type": "execute_result",
          "data": {
            "text/plain": [
              "((2917, 1), (729, 1))"
            ]
          },
          "metadata": {},
          "execution_count": 31
        }
      ]
    },
    {
      "cell_type": "code",
      "source": [
        "treino.index.min(), treino.index.max()"
      ],
      "metadata": {
        "colab": {
          "base_uri": "https://localhost:8080/"
        },
        "id": "oz7ZrH_EY8Nz",
        "outputId": "20f32eaa-6f19-4a92-b554-674896c111b6"
      },
      "execution_count": 32,
      "outputs": [
        {
          "output_type": "execute_result",
          "data": {
            "text/plain": [
              "(Timestamp('1981-01-01 00:00:00'), Timestamp('1988-12-30 00:00:00'))"
            ]
          },
          "metadata": {},
          "execution_count": 32
        }
      ]
    },
    {
      "cell_type": "code",
      "source": [
        "validacao.index.min(), validacao.index.max()"
      ],
      "metadata": {
        "colab": {
          "base_uri": "https://localhost:8080/"
        },
        "id": "z1-CRiqXbdT1",
        "outputId": "cf8e98b6-7e87-42de-8672-daa89e02af7e"
      },
      "execution_count": 33,
      "outputs": [
        {
          "output_type": "execute_result",
          "data": {
            "text/plain": [
              "(Timestamp('1989-01-02 00:00:00'), Timestamp('1990-12-31 00:00:00'))"
            ]
          },
          "metadata": {},
          "execution_count": 33
        }
      ]
    },
    {
      "cell_type": "code",
      "source": [
        "treino['Daily minimum temperatures']"
      ],
      "metadata": {
        "colab": {
          "base_uri": "https://localhost:8080/"
        },
        "id": "x659eoJjcN4I",
        "outputId": "c48f172f-f64e-4a5b-9921-9a6a44aab7ec"
      },
      "execution_count": 34,
      "outputs": [
        {
          "output_type": "execute_result",
          "data": {
            "text/plain": [
              "Date\n",
              "1981-01-01    20.7\n",
              "1981-01-02    15.3\n",
              "1981-01-03    17.8\n",
              "1981-01-04    16.7\n",
              "1981-01-05     8.6\n",
              "              ... \n",
              "1988-12-26     9.5\n",
              "1988-12-27    12.9\n",
              "1988-12-28    12.9\n",
              "1988-12-29    14.8\n",
              "1988-12-30    14.1\n",
              "Name: Daily minimum temperatures, Length: 2917, dtype: float64"
            ]
          },
          "metadata": {},
          "execution_count": 34
        }
      ]
    },
    {
      "cell_type": "code",
      "source": [
        "treino['Daily minimum temperatures'].shift(-1)"
      ],
      "metadata": {
        "colab": {
          "base_uri": "https://localhost:8080/"
        },
        "id": "Y56dR76sdPUp",
        "outputId": "f53883f9-97cf-4f5f-98ad-3e11edf6dc9a"
      },
      "execution_count": 35,
      "outputs": [
        {
          "output_type": "execute_result",
          "data": {
            "text/plain": [
              "Date\n",
              "1981-01-01    15.3\n",
              "1981-01-02    17.8\n",
              "1981-01-03    16.7\n",
              "1981-01-04     8.6\n",
              "1981-01-05    11.6\n",
              "              ... \n",
              "1988-12-26    12.9\n",
              "1988-12-27    12.9\n",
              "1988-12-28    14.8\n",
              "1988-12-29    14.1\n",
              "1988-12-30     NaN\n",
              "Name: Daily minimum temperatures, Length: 2917, dtype: float64"
            ]
          },
          "metadata": {},
          "execution_count": 35
        }
      ]
    },
    {
      "cell_type": "code",
      "source": [
        "treino['target'] = treino['Daily minimum temperatures'].shift(-1)"
      ],
      "metadata": {
        "colab": {
          "base_uri": "https://localhost:8080/"
        },
        "id": "o1Fs2-GXdmd2",
        "outputId": "c19bc389-3f33-4d79-a590-d77f143c3463"
      },
      "execution_count": 36,
      "outputs": [
        {
          "output_type": "stream",
          "name": "stderr",
          "text": [
            "<ipython-input-36-bd97ef4edcdb>:1: SettingWithCopyWarning: \n",
            "A value is trying to be set on a copy of a slice from a DataFrame.\n",
            "Try using .loc[row_indexer,col_indexer] = value instead\n",
            "\n",
            "See the caveats in the documentation: https://pandas.pydata.org/pandas-docs/stable/user_guide/indexing.html#returning-a-view-versus-a-copy\n",
            "  treino['target'] = treino['Daily minimum temperatures'].shift(-1)\n"
          ]
        }
      ]
    },
    {
      "cell_type": "code",
      "source": [
        "treino.tail()"
      ],
      "metadata": {
        "colab": {
          "base_uri": "https://localhost:8080/",
          "height": 237
        },
        "id": "qXVfYceUevOn",
        "outputId": "958fde7d-2480-411d-afdd-3ca1ab03fba5"
      },
      "execution_count": 37,
      "outputs": [
        {
          "output_type": "execute_result",
          "data": {
            "text/plain": [
              "            Daily minimum temperatures  target\n",
              "Date                                          \n",
              "1988-12-26                         9.5    12.9\n",
              "1988-12-27                        12.9    12.9\n",
              "1988-12-28                        12.9    14.8\n",
              "1988-12-29                        14.8    14.1\n",
              "1988-12-30                        14.1     NaN"
            ],
            "text/html": [
              "\n",
              "  <div id=\"df-72f2b633-9a20-4649-b2f0-d14489f43e97\">\n",
              "    <div class=\"colab-df-container\">\n",
              "      <div>\n",
              "<style scoped>\n",
              "    .dataframe tbody tr th:only-of-type {\n",
              "        vertical-align: middle;\n",
              "    }\n",
              "\n",
              "    .dataframe tbody tr th {\n",
              "        vertical-align: top;\n",
              "    }\n",
              "\n",
              "    .dataframe thead th {\n",
              "        text-align: right;\n",
              "    }\n",
              "</style>\n",
              "<table border=\"1\" class=\"dataframe\">\n",
              "  <thead>\n",
              "    <tr style=\"text-align: right;\">\n",
              "      <th></th>\n",
              "      <th>Daily minimum temperatures</th>\n",
              "      <th>target</th>\n",
              "    </tr>\n",
              "    <tr>\n",
              "      <th>Date</th>\n",
              "      <th></th>\n",
              "      <th></th>\n",
              "    </tr>\n",
              "  </thead>\n",
              "  <tbody>\n",
              "    <tr>\n",
              "      <th>1988-12-26</th>\n",
              "      <td>9.5</td>\n",
              "      <td>12.9</td>\n",
              "    </tr>\n",
              "    <tr>\n",
              "      <th>1988-12-27</th>\n",
              "      <td>12.9</td>\n",
              "      <td>12.9</td>\n",
              "    </tr>\n",
              "    <tr>\n",
              "      <th>1988-12-28</th>\n",
              "      <td>12.9</td>\n",
              "      <td>14.8</td>\n",
              "    </tr>\n",
              "    <tr>\n",
              "      <th>1988-12-29</th>\n",
              "      <td>14.8</td>\n",
              "      <td>14.1</td>\n",
              "    </tr>\n",
              "    <tr>\n",
              "      <th>1988-12-30</th>\n",
              "      <td>14.1</td>\n",
              "      <td>NaN</td>\n",
              "    </tr>\n",
              "  </tbody>\n",
              "</table>\n",
              "</div>\n",
              "      <button class=\"colab-df-convert\" onclick=\"convertToInteractive('df-72f2b633-9a20-4649-b2f0-d14489f43e97')\"\n",
              "              title=\"Convert this dataframe to an interactive table.\"\n",
              "              style=\"display:none;\">\n",
              "        \n",
              "  <svg xmlns=\"http://www.w3.org/2000/svg\" height=\"24px\"viewBox=\"0 0 24 24\"\n",
              "       width=\"24px\">\n",
              "    <path d=\"M0 0h24v24H0V0z\" fill=\"none\"/>\n",
              "    <path d=\"M18.56 5.44l.94 2.06.94-2.06 2.06-.94-2.06-.94-.94-2.06-.94 2.06-2.06.94zm-11 1L8.5 8.5l.94-2.06 2.06-.94-2.06-.94L8.5 2.5l-.94 2.06-2.06.94zm10 10l.94 2.06.94-2.06 2.06-.94-2.06-.94-.94-2.06-.94 2.06-2.06.94z\"/><path d=\"M17.41 7.96l-1.37-1.37c-.4-.4-.92-.59-1.43-.59-.52 0-1.04.2-1.43.59L10.3 9.45l-7.72 7.72c-.78.78-.78 2.05 0 2.83L4 21.41c.39.39.9.59 1.41.59.51 0 1.02-.2 1.41-.59l7.78-7.78 2.81-2.81c.8-.78.8-2.07 0-2.86zM5.41 20L4 18.59l7.72-7.72 1.47 1.35L5.41 20z\"/>\n",
              "  </svg>\n",
              "      </button>\n",
              "      \n",
              "  <style>\n",
              "    .colab-df-container {\n",
              "      display:flex;\n",
              "      flex-wrap:wrap;\n",
              "      gap: 12px;\n",
              "    }\n",
              "\n",
              "    .colab-df-convert {\n",
              "      background-color: #E8F0FE;\n",
              "      border: none;\n",
              "      border-radius: 50%;\n",
              "      cursor: pointer;\n",
              "      display: none;\n",
              "      fill: #1967D2;\n",
              "      height: 32px;\n",
              "      padding: 0 0 0 0;\n",
              "      width: 32px;\n",
              "    }\n",
              "\n",
              "    .colab-df-convert:hover {\n",
              "      background-color: #E2EBFA;\n",
              "      box-shadow: 0px 1px 2px rgba(60, 64, 67, 0.3), 0px 1px 3px 1px rgba(60, 64, 67, 0.15);\n",
              "      fill: #174EA6;\n",
              "    }\n",
              "\n",
              "    [theme=dark] .colab-df-convert {\n",
              "      background-color: #3B4455;\n",
              "      fill: #D2E3FC;\n",
              "    }\n",
              "\n",
              "    [theme=dark] .colab-df-convert:hover {\n",
              "      background-color: #434B5C;\n",
              "      box-shadow: 0px 1px 3px 1px rgba(0, 0, 0, 0.15);\n",
              "      filter: drop-shadow(0px 1px 2px rgba(0, 0, 0, 0.3));\n",
              "      fill: #FFFFFF;\n",
              "    }\n",
              "  </style>\n",
              "\n",
              "      <script>\n",
              "        const buttonEl =\n",
              "          document.querySelector('#df-72f2b633-9a20-4649-b2f0-d14489f43e97 button.colab-df-convert');\n",
              "        buttonEl.style.display =\n",
              "          google.colab.kernel.accessAllowed ? 'block' : 'none';\n",
              "\n",
              "        async function convertToInteractive(key) {\n",
              "          const element = document.querySelector('#df-72f2b633-9a20-4649-b2f0-d14489f43e97');\n",
              "          const dataTable =\n",
              "            await google.colab.kernel.invokeFunction('convertToInteractive',\n",
              "                                                     [key], {});\n",
              "          if (!dataTable) return;\n",
              "\n",
              "          const docLinkHtml = 'Like what you see? Visit the ' +\n",
              "            '<a target=\"_blank\" href=https://colab.research.google.com/notebooks/data_table.ipynb>data table notebook</a>'\n",
              "            + ' to learn more about interactive tables.';\n",
              "          element.innerHTML = '';\n",
              "          dataTable['output_type'] = 'display_data';\n",
              "          await google.colab.output.renderOutput(dataTable, element);\n",
              "          const docLink = document.createElement('div');\n",
              "          docLink.innerHTML = docLinkHtml;\n",
              "          element.appendChild(docLink);\n",
              "        }\n",
              "      </script>\n",
              "    </div>\n",
              "  </div>\n",
              "  "
            ]
          },
          "metadata": {},
          "execution_count": 37
        }
      ]
    },
    {
      "cell_type": "code",
      "source": [
        "treino = treino.dropna()\n",
        "treino.tail()"
      ],
      "metadata": {
        "colab": {
          "base_uri": "https://localhost:8080/",
          "height": 237
        },
        "id": "6gzXBz16e1YO",
        "outputId": "ab101e06-5c18-421d-b960-939036acfc43"
      },
      "execution_count": 38,
      "outputs": [
        {
          "output_type": "execute_result",
          "data": {
            "text/plain": [
              "            Daily minimum temperatures  target\n",
              "Date                                          \n",
              "1988-12-25                        15.8     9.5\n",
              "1988-12-26                         9.5    12.9\n",
              "1988-12-27                        12.9    12.9\n",
              "1988-12-28                        12.9    14.8\n",
              "1988-12-29                        14.8    14.1"
            ],
            "text/html": [
              "\n",
              "  <div id=\"df-fbe13fa2-180d-4e54-b3b7-b9592e2f54d5\">\n",
              "    <div class=\"colab-df-container\">\n",
              "      <div>\n",
              "<style scoped>\n",
              "    .dataframe tbody tr th:only-of-type {\n",
              "        vertical-align: middle;\n",
              "    }\n",
              "\n",
              "    .dataframe tbody tr th {\n",
              "        vertical-align: top;\n",
              "    }\n",
              "\n",
              "    .dataframe thead th {\n",
              "        text-align: right;\n",
              "    }\n",
              "</style>\n",
              "<table border=\"1\" class=\"dataframe\">\n",
              "  <thead>\n",
              "    <tr style=\"text-align: right;\">\n",
              "      <th></th>\n",
              "      <th>Daily minimum temperatures</th>\n",
              "      <th>target</th>\n",
              "    </tr>\n",
              "    <tr>\n",
              "      <th>Date</th>\n",
              "      <th></th>\n",
              "      <th></th>\n",
              "    </tr>\n",
              "  </thead>\n",
              "  <tbody>\n",
              "    <tr>\n",
              "      <th>1988-12-25</th>\n",
              "      <td>15.8</td>\n",
              "      <td>9.5</td>\n",
              "    </tr>\n",
              "    <tr>\n",
              "      <th>1988-12-26</th>\n",
              "      <td>9.5</td>\n",
              "      <td>12.9</td>\n",
              "    </tr>\n",
              "    <tr>\n",
              "      <th>1988-12-27</th>\n",
              "      <td>12.9</td>\n",
              "      <td>12.9</td>\n",
              "    </tr>\n",
              "    <tr>\n",
              "      <th>1988-12-28</th>\n",
              "      <td>12.9</td>\n",
              "      <td>14.8</td>\n",
              "    </tr>\n",
              "    <tr>\n",
              "      <th>1988-12-29</th>\n",
              "      <td>14.8</td>\n",
              "      <td>14.1</td>\n",
              "    </tr>\n",
              "  </tbody>\n",
              "</table>\n",
              "</div>\n",
              "      <button class=\"colab-df-convert\" onclick=\"convertToInteractive('df-fbe13fa2-180d-4e54-b3b7-b9592e2f54d5')\"\n",
              "              title=\"Convert this dataframe to an interactive table.\"\n",
              "              style=\"display:none;\">\n",
              "        \n",
              "  <svg xmlns=\"http://www.w3.org/2000/svg\" height=\"24px\"viewBox=\"0 0 24 24\"\n",
              "       width=\"24px\">\n",
              "    <path d=\"M0 0h24v24H0V0z\" fill=\"none\"/>\n",
              "    <path d=\"M18.56 5.44l.94 2.06.94-2.06 2.06-.94-2.06-.94-.94-2.06-.94 2.06-2.06.94zm-11 1L8.5 8.5l.94-2.06 2.06-.94-2.06-.94L8.5 2.5l-.94 2.06-2.06.94zm10 10l.94 2.06.94-2.06 2.06-.94-2.06-.94-.94-2.06-.94 2.06-2.06.94z\"/><path d=\"M17.41 7.96l-1.37-1.37c-.4-.4-.92-.59-1.43-.59-.52 0-1.04.2-1.43.59L10.3 9.45l-7.72 7.72c-.78.78-.78 2.05 0 2.83L4 21.41c.39.39.9.59 1.41.59.51 0 1.02-.2 1.41-.59l7.78-7.78 2.81-2.81c.8-.78.8-2.07 0-2.86zM5.41 20L4 18.59l7.72-7.72 1.47 1.35L5.41 20z\"/>\n",
              "  </svg>\n",
              "      </button>\n",
              "      \n",
              "  <style>\n",
              "    .colab-df-container {\n",
              "      display:flex;\n",
              "      flex-wrap:wrap;\n",
              "      gap: 12px;\n",
              "    }\n",
              "\n",
              "    .colab-df-convert {\n",
              "      background-color: #E8F0FE;\n",
              "      border: none;\n",
              "      border-radius: 50%;\n",
              "      cursor: pointer;\n",
              "      display: none;\n",
              "      fill: #1967D2;\n",
              "      height: 32px;\n",
              "      padding: 0 0 0 0;\n",
              "      width: 32px;\n",
              "    }\n",
              "\n",
              "    .colab-df-convert:hover {\n",
              "      background-color: #E2EBFA;\n",
              "      box-shadow: 0px 1px 2px rgba(60, 64, 67, 0.3), 0px 1px 3px 1px rgba(60, 64, 67, 0.15);\n",
              "      fill: #174EA6;\n",
              "    }\n",
              "\n",
              "    [theme=dark] .colab-df-convert {\n",
              "      background-color: #3B4455;\n",
              "      fill: #D2E3FC;\n",
              "    }\n",
              "\n",
              "    [theme=dark] .colab-df-convert:hover {\n",
              "      background-color: #434B5C;\n",
              "      box-shadow: 0px 1px 3px 1px rgba(0, 0, 0, 0.15);\n",
              "      filter: drop-shadow(0px 1px 2px rgba(0, 0, 0, 0.3));\n",
              "      fill: #FFFFFF;\n",
              "    }\n",
              "  </style>\n",
              "\n",
              "      <script>\n",
              "        const buttonEl =\n",
              "          document.querySelector('#df-fbe13fa2-180d-4e54-b3b7-b9592e2f54d5 button.colab-df-convert');\n",
              "        buttonEl.style.display =\n",
              "          google.colab.kernel.accessAllowed ? 'block' : 'none';\n",
              "\n",
              "        async function convertToInteractive(key) {\n",
              "          const element = document.querySelector('#df-fbe13fa2-180d-4e54-b3b7-b9592e2f54d5');\n",
              "          const dataTable =\n",
              "            await google.colab.kernel.invokeFunction('convertToInteractive',\n",
              "                                                     [key], {});\n",
              "          if (!dataTable) return;\n",
              "\n",
              "          const docLinkHtml = 'Like what you see? Visit the ' +\n",
              "            '<a target=\"_blank\" href=https://colab.research.google.com/notebooks/data_table.ipynb>data table notebook</a>'\n",
              "            + ' to learn more about interactive tables.';\n",
              "          element.innerHTML = '';\n",
              "          dataTable['output_type'] = 'display_data';\n",
              "          await google.colab.output.renderOutput(dataTable, element);\n",
              "          const docLink = document.createElement('div');\n",
              "          docLink.innerHTML = docLinkHtml;\n",
              "          element.appendChild(docLink);\n",
              "        }\n",
              "      </script>\n",
              "    </div>\n",
              "  </div>\n",
              "  "
            ]
          },
          "metadata": {},
          "execution_count": 38
        }
      ]
    },
    {
      "cell_type": "code",
      "source": [
        "validacao['target'] = validacao['Daily minimum temperatures'].shift(-1)\n",
        "validacao.head()"
      ],
      "metadata": {
        "colab": {
          "base_uri": "https://localhost:8080/",
          "height": 341
        },
        "id": "fNmMn14re8dq",
        "outputId": "26dcd38b-be10-4311-ed97-e4f262813d54"
      },
      "execution_count": 39,
      "outputs": [
        {
          "output_type": "stream",
          "name": "stderr",
          "text": [
            "<ipython-input-39-2c30723a2fe4>:1: SettingWithCopyWarning: \n",
            "A value is trying to be set on a copy of a slice from a DataFrame.\n",
            "Try using .loc[row_indexer,col_indexer] = value instead\n",
            "\n",
            "See the caveats in the documentation: https://pandas.pydata.org/pandas-docs/stable/user_guide/indexing.html#returning-a-view-versus-a-copy\n",
            "  validacao['target'] = validacao['Daily minimum temperatures'].shift(-1)\n"
          ]
        },
        {
          "output_type": "execute_result",
          "data": {
            "text/plain": [
              "            Daily minimum temperatures  target\n",
              "Date                                          \n",
              "1989-01-02                        16.1    20.4\n",
              "1989-01-03                        20.4    13.3\n",
              "1989-01-04                        13.3    14.2\n",
              "1989-01-05                        14.2     2.3\n",
              "1989-01-06                         2.3     6.0"
            ],
            "text/html": [
              "\n",
              "  <div id=\"df-61d167d6-ba01-4db9-bcea-9c9056488856\">\n",
              "    <div class=\"colab-df-container\">\n",
              "      <div>\n",
              "<style scoped>\n",
              "    .dataframe tbody tr th:only-of-type {\n",
              "        vertical-align: middle;\n",
              "    }\n",
              "\n",
              "    .dataframe tbody tr th {\n",
              "        vertical-align: top;\n",
              "    }\n",
              "\n",
              "    .dataframe thead th {\n",
              "        text-align: right;\n",
              "    }\n",
              "</style>\n",
              "<table border=\"1\" class=\"dataframe\">\n",
              "  <thead>\n",
              "    <tr style=\"text-align: right;\">\n",
              "      <th></th>\n",
              "      <th>Daily minimum temperatures</th>\n",
              "      <th>target</th>\n",
              "    </tr>\n",
              "    <tr>\n",
              "      <th>Date</th>\n",
              "      <th></th>\n",
              "      <th></th>\n",
              "    </tr>\n",
              "  </thead>\n",
              "  <tbody>\n",
              "    <tr>\n",
              "      <th>1989-01-02</th>\n",
              "      <td>16.1</td>\n",
              "      <td>20.4</td>\n",
              "    </tr>\n",
              "    <tr>\n",
              "      <th>1989-01-03</th>\n",
              "      <td>20.4</td>\n",
              "      <td>13.3</td>\n",
              "    </tr>\n",
              "    <tr>\n",
              "      <th>1989-01-04</th>\n",
              "      <td>13.3</td>\n",
              "      <td>14.2</td>\n",
              "    </tr>\n",
              "    <tr>\n",
              "      <th>1989-01-05</th>\n",
              "      <td>14.2</td>\n",
              "      <td>2.3</td>\n",
              "    </tr>\n",
              "    <tr>\n",
              "      <th>1989-01-06</th>\n",
              "      <td>2.3</td>\n",
              "      <td>6.0</td>\n",
              "    </tr>\n",
              "  </tbody>\n",
              "</table>\n",
              "</div>\n",
              "      <button class=\"colab-df-convert\" onclick=\"convertToInteractive('df-61d167d6-ba01-4db9-bcea-9c9056488856')\"\n",
              "              title=\"Convert this dataframe to an interactive table.\"\n",
              "              style=\"display:none;\">\n",
              "        \n",
              "  <svg xmlns=\"http://www.w3.org/2000/svg\" height=\"24px\"viewBox=\"0 0 24 24\"\n",
              "       width=\"24px\">\n",
              "    <path d=\"M0 0h24v24H0V0z\" fill=\"none\"/>\n",
              "    <path d=\"M18.56 5.44l.94 2.06.94-2.06 2.06-.94-2.06-.94-.94-2.06-.94 2.06-2.06.94zm-11 1L8.5 8.5l.94-2.06 2.06-.94-2.06-.94L8.5 2.5l-.94 2.06-2.06.94zm10 10l.94 2.06.94-2.06 2.06-.94-2.06-.94-.94-2.06-.94 2.06-2.06.94z\"/><path d=\"M17.41 7.96l-1.37-1.37c-.4-.4-.92-.59-1.43-.59-.52 0-1.04.2-1.43.59L10.3 9.45l-7.72 7.72c-.78.78-.78 2.05 0 2.83L4 21.41c.39.39.9.59 1.41.59.51 0 1.02-.2 1.41-.59l7.78-7.78 2.81-2.81c.8-.78.8-2.07 0-2.86zM5.41 20L4 18.59l7.72-7.72 1.47 1.35L5.41 20z\"/>\n",
              "  </svg>\n",
              "      </button>\n",
              "      \n",
              "  <style>\n",
              "    .colab-df-container {\n",
              "      display:flex;\n",
              "      flex-wrap:wrap;\n",
              "      gap: 12px;\n",
              "    }\n",
              "\n",
              "    .colab-df-convert {\n",
              "      background-color: #E8F0FE;\n",
              "      border: none;\n",
              "      border-radius: 50%;\n",
              "      cursor: pointer;\n",
              "      display: none;\n",
              "      fill: #1967D2;\n",
              "      height: 32px;\n",
              "      padding: 0 0 0 0;\n",
              "      width: 32px;\n",
              "    }\n",
              "\n",
              "    .colab-df-convert:hover {\n",
              "      background-color: #E2EBFA;\n",
              "      box-shadow: 0px 1px 2px rgba(60, 64, 67, 0.3), 0px 1px 3px 1px rgba(60, 64, 67, 0.15);\n",
              "      fill: #174EA6;\n",
              "    }\n",
              "\n",
              "    [theme=dark] .colab-df-convert {\n",
              "      background-color: #3B4455;\n",
              "      fill: #D2E3FC;\n",
              "    }\n",
              "\n",
              "    [theme=dark] .colab-df-convert:hover {\n",
              "      background-color: #434B5C;\n",
              "      box-shadow: 0px 1px 3px 1px rgba(0, 0, 0, 0.15);\n",
              "      filter: drop-shadow(0px 1px 2px rgba(0, 0, 0, 0.3));\n",
              "      fill: #FFFFFF;\n",
              "    }\n",
              "  </style>\n",
              "\n",
              "      <script>\n",
              "        const buttonEl =\n",
              "          document.querySelector('#df-61d167d6-ba01-4db9-bcea-9c9056488856 button.colab-df-convert');\n",
              "        buttonEl.style.display =\n",
              "          google.colab.kernel.accessAllowed ? 'block' : 'none';\n",
              "\n",
              "        async function convertToInteractive(key) {\n",
              "          const element = document.querySelector('#df-61d167d6-ba01-4db9-bcea-9c9056488856');\n",
              "          const dataTable =\n",
              "            await google.colab.kernel.invokeFunction('convertToInteractive',\n",
              "                                                     [key], {});\n",
              "          if (!dataTable) return;\n",
              "\n",
              "          const docLinkHtml = 'Like what you see? Visit the ' +\n",
              "            '<a target=\"_blank\" href=https://colab.research.google.com/notebooks/data_table.ipynb>data table notebook</a>'\n",
              "            + ' to learn more about interactive tables.';\n",
              "          element.innerHTML = '';\n",
              "          dataTable['output_type'] = 'display_data';\n",
              "          await google.colab.output.renderOutput(dataTable, element);\n",
              "          const docLink = document.createElement('div');\n",
              "          docLink.innerHTML = docLinkHtml;\n",
              "          element.appendChild(docLink);\n",
              "        }\n",
              "      </script>\n",
              "    </div>\n",
              "  </div>\n",
              "  "
            ]
          },
          "metadata": {},
          "execution_count": 39
        }
      ]
    },
    {
      "cell_type": "code",
      "source": [
        "validacao.tail()"
      ],
      "metadata": {
        "colab": {
          "base_uri": "https://localhost:8080/",
          "height": 237
        },
        "id": "8AOIeMA5fPqa",
        "outputId": "7176a60c-e28d-48f5-ed3e-6c36033994f7"
      },
      "execution_count": 40,
      "outputs": [
        {
          "output_type": "execute_result",
          "data": {
            "text/plain": [
              "            Daily minimum temperatures  target\n",
              "Date                                          \n",
              "1990-12-27                        14.0    13.6\n",
              "1990-12-28                        13.6    13.5\n",
              "1990-12-29                        13.5    15.7\n",
              "1990-12-30                        15.7    13.0\n",
              "1990-12-31                        13.0     NaN"
            ],
            "text/html": [
              "\n",
              "  <div id=\"df-6998c959-6266-44fa-ba79-2e320d448514\">\n",
              "    <div class=\"colab-df-container\">\n",
              "      <div>\n",
              "<style scoped>\n",
              "    .dataframe tbody tr th:only-of-type {\n",
              "        vertical-align: middle;\n",
              "    }\n",
              "\n",
              "    .dataframe tbody tr th {\n",
              "        vertical-align: top;\n",
              "    }\n",
              "\n",
              "    .dataframe thead th {\n",
              "        text-align: right;\n",
              "    }\n",
              "</style>\n",
              "<table border=\"1\" class=\"dataframe\">\n",
              "  <thead>\n",
              "    <tr style=\"text-align: right;\">\n",
              "      <th></th>\n",
              "      <th>Daily minimum temperatures</th>\n",
              "      <th>target</th>\n",
              "    </tr>\n",
              "    <tr>\n",
              "      <th>Date</th>\n",
              "      <th></th>\n",
              "      <th></th>\n",
              "    </tr>\n",
              "  </thead>\n",
              "  <tbody>\n",
              "    <tr>\n",
              "      <th>1990-12-27</th>\n",
              "      <td>14.0</td>\n",
              "      <td>13.6</td>\n",
              "    </tr>\n",
              "    <tr>\n",
              "      <th>1990-12-28</th>\n",
              "      <td>13.6</td>\n",
              "      <td>13.5</td>\n",
              "    </tr>\n",
              "    <tr>\n",
              "      <th>1990-12-29</th>\n",
              "      <td>13.5</td>\n",
              "      <td>15.7</td>\n",
              "    </tr>\n",
              "    <tr>\n",
              "      <th>1990-12-30</th>\n",
              "      <td>15.7</td>\n",
              "      <td>13.0</td>\n",
              "    </tr>\n",
              "    <tr>\n",
              "      <th>1990-12-31</th>\n",
              "      <td>13.0</td>\n",
              "      <td>NaN</td>\n",
              "    </tr>\n",
              "  </tbody>\n",
              "</table>\n",
              "</div>\n",
              "      <button class=\"colab-df-convert\" onclick=\"convertToInteractive('df-6998c959-6266-44fa-ba79-2e320d448514')\"\n",
              "              title=\"Convert this dataframe to an interactive table.\"\n",
              "              style=\"display:none;\">\n",
              "        \n",
              "  <svg xmlns=\"http://www.w3.org/2000/svg\" height=\"24px\"viewBox=\"0 0 24 24\"\n",
              "       width=\"24px\">\n",
              "    <path d=\"M0 0h24v24H0V0z\" fill=\"none\"/>\n",
              "    <path d=\"M18.56 5.44l.94 2.06.94-2.06 2.06-.94-2.06-.94-.94-2.06-.94 2.06-2.06.94zm-11 1L8.5 8.5l.94-2.06 2.06-.94-2.06-.94L8.5 2.5l-.94 2.06-2.06.94zm10 10l.94 2.06.94-2.06 2.06-.94-2.06-.94-.94-2.06-.94 2.06-2.06.94z\"/><path d=\"M17.41 7.96l-1.37-1.37c-.4-.4-.92-.59-1.43-.59-.52 0-1.04.2-1.43.59L10.3 9.45l-7.72 7.72c-.78.78-.78 2.05 0 2.83L4 21.41c.39.39.9.59 1.41.59.51 0 1.02-.2 1.41-.59l7.78-7.78 2.81-2.81c.8-.78.8-2.07 0-2.86zM5.41 20L4 18.59l7.72-7.72 1.47 1.35L5.41 20z\"/>\n",
              "  </svg>\n",
              "      </button>\n",
              "      \n",
              "  <style>\n",
              "    .colab-df-container {\n",
              "      display:flex;\n",
              "      flex-wrap:wrap;\n",
              "      gap: 12px;\n",
              "    }\n",
              "\n",
              "    .colab-df-convert {\n",
              "      background-color: #E8F0FE;\n",
              "      border: none;\n",
              "      border-radius: 50%;\n",
              "      cursor: pointer;\n",
              "      display: none;\n",
              "      fill: #1967D2;\n",
              "      height: 32px;\n",
              "      padding: 0 0 0 0;\n",
              "      width: 32px;\n",
              "    }\n",
              "\n",
              "    .colab-df-convert:hover {\n",
              "      background-color: #E2EBFA;\n",
              "      box-shadow: 0px 1px 2px rgba(60, 64, 67, 0.3), 0px 1px 3px 1px rgba(60, 64, 67, 0.15);\n",
              "      fill: #174EA6;\n",
              "    }\n",
              "\n",
              "    [theme=dark] .colab-df-convert {\n",
              "      background-color: #3B4455;\n",
              "      fill: #D2E3FC;\n",
              "    }\n",
              "\n",
              "    [theme=dark] .colab-df-convert:hover {\n",
              "      background-color: #434B5C;\n",
              "      box-shadow: 0px 1px 3px 1px rgba(0, 0, 0, 0.15);\n",
              "      filter: drop-shadow(0px 1px 2px rgba(0, 0, 0, 0.3));\n",
              "      fill: #FFFFFF;\n",
              "    }\n",
              "  </style>\n",
              "\n",
              "      <script>\n",
              "        const buttonEl =\n",
              "          document.querySelector('#df-6998c959-6266-44fa-ba79-2e320d448514 button.colab-df-convert');\n",
              "        buttonEl.style.display =\n",
              "          google.colab.kernel.accessAllowed ? 'block' : 'none';\n",
              "\n",
              "        async function convertToInteractive(key) {\n",
              "          const element = document.querySelector('#df-6998c959-6266-44fa-ba79-2e320d448514');\n",
              "          const dataTable =\n",
              "            await google.colab.kernel.invokeFunction('convertToInteractive',\n",
              "                                                     [key], {});\n",
              "          if (!dataTable) return;\n",
              "\n",
              "          const docLinkHtml = 'Like what you see? Visit the ' +\n",
              "            '<a target=\"_blank\" href=https://colab.research.google.com/notebooks/data_table.ipynb>data table notebook</a>'\n",
              "            + ' to learn more about interactive tables.';\n",
              "          element.innerHTML = '';\n",
              "          dataTable['output_type'] = 'display_data';\n",
              "          await google.colab.output.renderOutput(dataTable, element);\n",
              "          const docLink = document.createElement('div');\n",
              "          docLink.innerHTML = docLinkHtml;\n",
              "          element.appendChild(docLink);\n",
              "        }\n",
              "      </script>\n",
              "    </div>\n",
              "  </div>\n",
              "  "
            ]
          },
          "metadata": {},
          "execution_count": 40
        }
      ]
    },
    {
      "cell_type": "code",
      "source": [
        "validacao = validacao.dropna()\n",
        "validacao.tail()"
      ],
      "metadata": {
        "colab": {
          "base_uri": "https://localhost:8080/",
          "height": 237
        },
        "id": "Td2lArGufUnR",
        "outputId": "5c7021d1-5bba-4274-c076-3e2d1101a099"
      },
      "execution_count": 41,
      "outputs": [
        {
          "output_type": "execute_result",
          "data": {
            "text/plain": [
              "            Daily minimum temperatures  target\n",
              "Date                                          \n",
              "1990-12-26                        14.6    14.0\n",
              "1990-12-27                        14.0    13.6\n",
              "1990-12-28                        13.6    13.5\n",
              "1990-12-29                        13.5    15.7\n",
              "1990-12-30                        15.7    13.0"
            ],
            "text/html": [
              "\n",
              "  <div id=\"df-da0851ee-6179-4022-88d0-63f9abdfd4d5\">\n",
              "    <div class=\"colab-df-container\">\n",
              "      <div>\n",
              "<style scoped>\n",
              "    .dataframe tbody tr th:only-of-type {\n",
              "        vertical-align: middle;\n",
              "    }\n",
              "\n",
              "    .dataframe tbody tr th {\n",
              "        vertical-align: top;\n",
              "    }\n",
              "\n",
              "    .dataframe thead th {\n",
              "        text-align: right;\n",
              "    }\n",
              "</style>\n",
              "<table border=\"1\" class=\"dataframe\">\n",
              "  <thead>\n",
              "    <tr style=\"text-align: right;\">\n",
              "      <th></th>\n",
              "      <th>Daily minimum temperatures</th>\n",
              "      <th>target</th>\n",
              "    </tr>\n",
              "    <tr>\n",
              "      <th>Date</th>\n",
              "      <th></th>\n",
              "      <th></th>\n",
              "    </tr>\n",
              "  </thead>\n",
              "  <tbody>\n",
              "    <tr>\n",
              "      <th>1990-12-26</th>\n",
              "      <td>14.6</td>\n",
              "      <td>14.0</td>\n",
              "    </tr>\n",
              "    <tr>\n",
              "      <th>1990-12-27</th>\n",
              "      <td>14.0</td>\n",
              "      <td>13.6</td>\n",
              "    </tr>\n",
              "    <tr>\n",
              "      <th>1990-12-28</th>\n",
              "      <td>13.6</td>\n",
              "      <td>13.5</td>\n",
              "    </tr>\n",
              "    <tr>\n",
              "      <th>1990-12-29</th>\n",
              "      <td>13.5</td>\n",
              "      <td>15.7</td>\n",
              "    </tr>\n",
              "    <tr>\n",
              "      <th>1990-12-30</th>\n",
              "      <td>15.7</td>\n",
              "      <td>13.0</td>\n",
              "    </tr>\n",
              "  </tbody>\n",
              "</table>\n",
              "</div>\n",
              "      <button class=\"colab-df-convert\" onclick=\"convertToInteractive('df-da0851ee-6179-4022-88d0-63f9abdfd4d5')\"\n",
              "              title=\"Convert this dataframe to an interactive table.\"\n",
              "              style=\"display:none;\">\n",
              "        \n",
              "  <svg xmlns=\"http://www.w3.org/2000/svg\" height=\"24px\"viewBox=\"0 0 24 24\"\n",
              "       width=\"24px\">\n",
              "    <path d=\"M0 0h24v24H0V0z\" fill=\"none\"/>\n",
              "    <path d=\"M18.56 5.44l.94 2.06.94-2.06 2.06-.94-2.06-.94-.94-2.06-.94 2.06-2.06.94zm-11 1L8.5 8.5l.94-2.06 2.06-.94-2.06-.94L8.5 2.5l-.94 2.06-2.06.94zm10 10l.94 2.06.94-2.06 2.06-.94-2.06-.94-.94-2.06-.94 2.06-2.06.94z\"/><path d=\"M17.41 7.96l-1.37-1.37c-.4-.4-.92-.59-1.43-.59-.52 0-1.04.2-1.43.59L10.3 9.45l-7.72 7.72c-.78.78-.78 2.05 0 2.83L4 21.41c.39.39.9.59 1.41.59.51 0 1.02-.2 1.41-.59l7.78-7.78 2.81-2.81c.8-.78.8-2.07 0-2.86zM5.41 20L4 18.59l7.72-7.72 1.47 1.35L5.41 20z\"/>\n",
              "  </svg>\n",
              "      </button>\n",
              "      \n",
              "  <style>\n",
              "    .colab-df-container {\n",
              "      display:flex;\n",
              "      flex-wrap:wrap;\n",
              "      gap: 12px;\n",
              "    }\n",
              "\n",
              "    .colab-df-convert {\n",
              "      background-color: #E8F0FE;\n",
              "      border: none;\n",
              "      border-radius: 50%;\n",
              "      cursor: pointer;\n",
              "      display: none;\n",
              "      fill: #1967D2;\n",
              "      height: 32px;\n",
              "      padding: 0 0 0 0;\n",
              "      width: 32px;\n",
              "    }\n",
              "\n",
              "    .colab-df-convert:hover {\n",
              "      background-color: #E2EBFA;\n",
              "      box-shadow: 0px 1px 2px rgba(60, 64, 67, 0.3), 0px 1px 3px 1px rgba(60, 64, 67, 0.15);\n",
              "      fill: #174EA6;\n",
              "    }\n",
              "\n",
              "    [theme=dark] .colab-df-convert {\n",
              "      background-color: #3B4455;\n",
              "      fill: #D2E3FC;\n",
              "    }\n",
              "\n",
              "    [theme=dark] .colab-df-convert:hover {\n",
              "      background-color: #434B5C;\n",
              "      box-shadow: 0px 1px 3px 1px rgba(0, 0, 0, 0.15);\n",
              "      filter: drop-shadow(0px 1px 2px rgba(0, 0, 0, 0.3));\n",
              "      fill: #FFFFFF;\n",
              "    }\n",
              "  </style>\n",
              "\n",
              "      <script>\n",
              "        const buttonEl =\n",
              "          document.querySelector('#df-da0851ee-6179-4022-88d0-63f9abdfd4d5 button.colab-df-convert');\n",
              "        buttonEl.style.display =\n",
              "          google.colab.kernel.accessAllowed ? 'block' : 'none';\n",
              "\n",
              "        async function convertToInteractive(key) {\n",
              "          const element = document.querySelector('#df-da0851ee-6179-4022-88d0-63f9abdfd4d5');\n",
              "          const dataTable =\n",
              "            await google.colab.kernel.invokeFunction('convertToInteractive',\n",
              "                                                     [key], {});\n",
              "          if (!dataTable) return;\n",
              "\n",
              "          const docLinkHtml = 'Like what you see? Visit the ' +\n",
              "            '<a target=\"_blank\" href=https://colab.research.google.com/notebooks/data_table.ipynb>data table notebook</a>'\n",
              "            + ' to learn more about interactive tables.';\n",
              "          element.innerHTML = '';\n",
              "          dataTable['output_type'] = 'display_data';\n",
              "          await google.colab.output.renderOutput(dataTable, element);\n",
              "          const docLink = document.createElement('div');\n",
              "          docLink.innerHTML = docLinkHtml;\n",
              "          element.appendChild(docLink);\n",
              "        }\n",
              "      </script>\n",
              "    </div>\n",
              "  </div>\n",
              "  "
            ]
          },
          "metadata": {},
          "execution_count": 41
        }
      ]
    },
    {
      "cell_type": "code",
      "source": [
        "X_treino = treino.loc[:, ['Daily minimum temperatures']].values\n",
        "y_treino = treino.loc[:, ['target']].values\n",
        "X_validacao = validacao.loc[:, ['Daily minimum temperatures']].values\n",
        "y_validacao = validacao.loc[:, ['target']].values\n",
        "\n",
        "X_treino.shape, y_treino.shape, X_validacao.shape, y_validacao.shape"
      ],
      "metadata": {
        "colab": {
          "base_uri": "https://localhost:8080/"
        },
        "id": "W3yMMoTWfapZ",
        "outputId": "e82f024b-8ca9-4f8e-db49-1005543e6716"
      },
      "execution_count": 42,
      "outputs": [
        {
          "output_type": "execute_result",
          "data": {
            "text/plain": [
              "((2916, 1), (2916, 1), (728, 1), (728, 1))"
            ]
          },
          "metadata": {},
          "execution_count": 42
        }
      ]
    },
    {
      "cell_type": "code",
      "source": [
        "modelo_xgba = XGBRegressor(objective=\"reg:squarederror\", n_estimators=1000)\n",
        "modelo_xgba.fit(X_treino, y_treino)"
      ],
      "metadata": {
        "colab": {
          "base_uri": "https://localhost:8080/",
          "height": 248
        },
        "id": "SSsApjCffiK3",
        "outputId": "a98fbd7f-c08b-4cb8-d933-8f0f18312647"
      },
      "execution_count": 43,
      "outputs": [
        {
          "output_type": "execute_result",
          "data": {
            "text/plain": [
              "XGBRegressor(base_score=None, booster=None, callbacks=None,\n",
              "             colsample_bylevel=None, colsample_bynode=None,\n",
              "             colsample_bytree=None, early_stopping_rounds=None,\n",
              "             enable_categorical=False, eval_metric=None, feature_types=None,\n",
              "             gamma=None, gpu_id=None, grow_policy=None, importance_type=None,\n",
              "             interaction_constraints=None, learning_rate=None, max_bin=None,\n",
              "             max_cat_threshold=None, max_cat_to_onehot=None,\n",
              "             max_delta_step=None, max_depth=None, max_leaves=None,\n",
              "             min_child_weight=None, missing=nan, monotone_constraints=None,\n",
              "             n_estimators=1000, n_jobs=None, num_parallel_tree=None,\n",
              "             predictor=None, random_state=None, ...)"
            ],
            "text/html": [
              "<style>#sk-container-id-1 {color: black;background-color: white;}#sk-container-id-1 pre{padding: 0;}#sk-container-id-1 div.sk-toggleable {background-color: white;}#sk-container-id-1 label.sk-toggleable__label {cursor: pointer;display: block;width: 100%;margin-bottom: 0;padding: 0.3em;box-sizing: border-box;text-align: center;}#sk-container-id-1 label.sk-toggleable__label-arrow:before {content: \"▸\";float: left;margin-right: 0.25em;color: #696969;}#sk-container-id-1 label.sk-toggleable__label-arrow:hover:before {color: black;}#sk-container-id-1 div.sk-estimator:hover label.sk-toggleable__label-arrow:before {color: black;}#sk-container-id-1 div.sk-toggleable__content {max-height: 0;max-width: 0;overflow: hidden;text-align: left;background-color: #f0f8ff;}#sk-container-id-1 div.sk-toggleable__content pre {margin: 0.2em;color: black;border-radius: 0.25em;background-color: #f0f8ff;}#sk-container-id-1 input.sk-toggleable__control:checked~div.sk-toggleable__content {max-height: 200px;max-width: 100%;overflow: auto;}#sk-container-id-1 input.sk-toggleable__control:checked~label.sk-toggleable__label-arrow:before {content: \"▾\";}#sk-container-id-1 div.sk-estimator input.sk-toggleable__control:checked~label.sk-toggleable__label {background-color: #d4ebff;}#sk-container-id-1 div.sk-label input.sk-toggleable__control:checked~label.sk-toggleable__label {background-color: #d4ebff;}#sk-container-id-1 input.sk-hidden--visually {border: 0;clip: rect(1px 1px 1px 1px);clip: rect(1px, 1px, 1px, 1px);height: 1px;margin: -1px;overflow: hidden;padding: 0;position: absolute;width: 1px;}#sk-container-id-1 div.sk-estimator {font-family: monospace;background-color: #f0f8ff;border: 1px dotted black;border-radius: 0.25em;box-sizing: border-box;margin-bottom: 0.5em;}#sk-container-id-1 div.sk-estimator:hover {background-color: #d4ebff;}#sk-container-id-1 div.sk-parallel-item::after {content: \"\";width: 100%;border-bottom: 1px solid gray;flex-grow: 1;}#sk-container-id-1 div.sk-label:hover label.sk-toggleable__label {background-color: #d4ebff;}#sk-container-id-1 div.sk-serial::before {content: \"\";position: absolute;border-left: 1px solid gray;box-sizing: border-box;top: 0;bottom: 0;left: 50%;z-index: 0;}#sk-container-id-1 div.sk-serial {display: flex;flex-direction: column;align-items: center;background-color: white;padding-right: 0.2em;padding-left: 0.2em;position: relative;}#sk-container-id-1 div.sk-item {position: relative;z-index: 1;}#sk-container-id-1 div.sk-parallel {display: flex;align-items: stretch;justify-content: center;background-color: white;position: relative;}#sk-container-id-1 div.sk-item::before, #sk-container-id-1 div.sk-parallel-item::before {content: \"\";position: absolute;border-left: 1px solid gray;box-sizing: border-box;top: 0;bottom: 0;left: 50%;z-index: -1;}#sk-container-id-1 div.sk-parallel-item {display: flex;flex-direction: column;z-index: 1;position: relative;background-color: white;}#sk-container-id-1 div.sk-parallel-item:first-child::after {align-self: flex-end;width: 50%;}#sk-container-id-1 div.sk-parallel-item:last-child::after {align-self: flex-start;width: 50%;}#sk-container-id-1 div.sk-parallel-item:only-child::after {width: 0;}#sk-container-id-1 div.sk-dashed-wrapped {border: 1px dashed gray;margin: 0 0.4em 0.5em 0.4em;box-sizing: border-box;padding-bottom: 0.4em;background-color: white;}#sk-container-id-1 div.sk-label label {font-family: monospace;font-weight: bold;display: inline-block;line-height: 1.2em;}#sk-container-id-1 div.sk-label-container {text-align: center;}#sk-container-id-1 div.sk-container {/* jupyter's `normalize.less` sets `[hidden] { display: none; }` but bootstrap.min.css set `[hidden] { display: none !important; }` so we also need the `!important` here to be able to override the default hidden behavior on the sphinx rendered scikit-learn.org. See: https://github.com/scikit-learn/scikit-learn/issues/21755 */display: inline-block !important;position: relative;}#sk-container-id-1 div.sk-text-repr-fallback {display: none;}</style><div id=\"sk-container-id-1\" class=\"sk-top-container\"><div class=\"sk-text-repr-fallback\"><pre>XGBRegressor(base_score=None, booster=None, callbacks=None,\n",
              "             colsample_bylevel=None, colsample_bynode=None,\n",
              "             colsample_bytree=None, early_stopping_rounds=None,\n",
              "             enable_categorical=False, eval_metric=None, feature_types=None,\n",
              "             gamma=None, gpu_id=None, grow_policy=None, importance_type=None,\n",
              "             interaction_constraints=None, learning_rate=None, max_bin=None,\n",
              "             max_cat_threshold=None, max_cat_to_onehot=None,\n",
              "             max_delta_step=None, max_depth=None, max_leaves=None,\n",
              "             min_child_weight=None, missing=nan, monotone_constraints=None,\n",
              "             n_estimators=1000, n_jobs=None, num_parallel_tree=None,\n",
              "             predictor=None, random_state=None, ...)</pre><b>In a Jupyter environment, please rerun this cell to show the HTML representation or trust the notebook. <br />On GitHub, the HTML representation is unable to render, please try loading this page with nbviewer.org.</b></div><div class=\"sk-container\" hidden><div class=\"sk-item\"><div class=\"sk-estimator sk-toggleable\"><input class=\"sk-toggleable__control sk-hidden--visually\" id=\"sk-estimator-id-1\" type=\"checkbox\" checked><label for=\"sk-estimator-id-1\" class=\"sk-toggleable__label sk-toggleable__label-arrow\">XGBRegressor</label><div class=\"sk-toggleable__content\"><pre>XGBRegressor(base_score=None, booster=None, callbacks=None,\n",
              "             colsample_bylevel=None, colsample_bynode=None,\n",
              "             colsample_bytree=None, early_stopping_rounds=None,\n",
              "             enable_categorical=False, eval_metric=None, feature_types=None,\n",
              "             gamma=None, gpu_id=None, grow_policy=None, importance_type=None,\n",
              "             interaction_constraints=None, learning_rate=None, max_bin=None,\n",
              "             max_cat_threshold=None, max_cat_to_onehot=None,\n",
              "             max_delta_step=None, max_depth=None, max_leaves=None,\n",
              "             min_child_weight=None, missing=nan, monotone_constraints=None,\n",
              "             n_estimators=1000, n_jobs=None, num_parallel_tree=None,\n",
              "             predictor=None, random_state=None, ...)</pre></div></div></div></div></div>"
            ]
          },
          "metadata": {},
          "execution_count": 43
        }
      ]
    },
    {
      "cell_type": "code",
      "source": [
        "validacao.iloc[0]"
      ],
      "metadata": {
        "colab": {
          "base_uri": "https://localhost:8080/"
        },
        "id": "rsh1oB8wfz3_",
        "outputId": "58eec4fc-a4a1-412d-be90-fc764c04e800"
      },
      "execution_count": 44,
      "outputs": [
        {
          "output_type": "execute_result",
          "data": {
            "text/plain": [
              "Daily minimum temperatures    16.1\n",
              "target                        20.4\n",
              "Name: 1989-01-02 00:00:00, dtype: float64"
            ]
          },
          "metadata": {},
          "execution_count": 44
        }
      ]
    },
    {
      "cell_type": "code",
      "source": [
        "predicao = modelo_xgba.predict(X_validacao)\n",
        "predicao"
      ],
      "metadata": {
        "colab": {
          "base_uri": "https://localhost:8080/"
        },
        "id": "5dQSIj2Sf4Pe",
        "outputId": "5e822833-c51f-475e-f782-8ff62481d280"
      },
      "execution_count": 45,
      "outputs": [
        {
          "output_type": "execute_result",
          "data": {
            "text/plain": [
              "array([15.416948 , 18.699797 , 13.846863 , 12.732546 ,  2.4051156,\n",
              "        7.9743357,  5.1026764,  9.052493 , 11.124948 ,  8.57722  ,\n",
              "       13.678968 , 12.221774 , 12.069542 , 21.062908 , 17.193264 ,\n",
              "       14.670411 , 12.82692  , 12.667715 , 15.141195 , 13.759426 ,\n",
              "       13.081266 , 12.100415 , 12.199565 , 13.740696 , 14.392499 ,\n",
              "       14.812003 , 10.900132 , 14.066723 , 15.483112 , 14.812003 ,\n",
              "       15.200877 , 14.787373 , 17.449106 , 13.730662 , 14.157446 ,\n",
              "        4.098926 ,  7.841806 ,  9.065861 ,  9.052493 ,  9.121672 ,\n",
              "        9.94322  , 17.599787 , 16.199526 , 17.599787 , 17.193264 ,\n",
              "       17.193264 , 14.6719885, 13.934235 , 13.725577 , 13.081266 ,\n",
              "       15.416948 , 13.716874 , 11.739092 , 14.392499 , 15.614069 ,\n",
              "       12.384481 , 15.116622 , 16.225931 , 16.225931 , 13.678968 ,\n",
              "       18.519197 , 12.732546 , 11.758794 ,  6.7999077,  9.068335 ,\n",
              "        8.57722  ,  7.100708 ,  9.696598 ,  8.841853 , 13.005589 ,\n",
              "       12.252076 , 13.730662 , 13.081266 , 13.743934 , 11.557617 ,\n",
              "       12.199565 , 13.081266 , 13.48679  , 21.062908 , 15.483112 ,\n",
              "       14.812003 , 13.115346 , 12.384481 , 10.90274  , 10.347193 ,\n",
              "       11.758794 , 11.485907 ,  9.068335 , 12.100415 , 13.957327 ,\n",
              "       13.725577 , 18.519197 , 12.732546 , 14.787373 ,  8.004291 ,\n",
              "        8.284914 ,  8.491785 , 10.603455 , 10.347193 , 12.199565 ,\n",
              "       13.846863 , 13.914686 , 11.243555 ,  8.841853 , 11.099595 ,\n",
              "       11.446653 , 11.557617 , 10.603455 ,  9.208364 , 10.037987 ,\n",
              "       10.150005 ,  9.923625 ,  8.754463 , 10.109799 , 11.907359 ,\n",
              "       13.914686 , 15.116622 , 13.759426 , 12.384481 , 10.452879 ,\n",
              "       12.732546 , 20.593775 , 20.664963 , 11.485907 ,  7.8566127,\n",
              "        7.576528 ,  7.841806 ,  7.8566127, 12.408305 , 13.081266 ,\n",
              "        9.841646 , 11.907359 , 11.099595 ,  9.068335 ,  8.754463 ,\n",
              "        8.57722  , 12.408305 , 11.399755 , 10.036848 ,  7.4677567,\n",
              "       10.109799 , 10.347193 , 10.407666 , 10.180936 ,  9.208364 ,\n",
              "       10.150005 , 11.474018 , 12.221774 , 12.384481 ,  8.004291 ,\n",
              "       10.347193 , 12.384481 , 17.599787 , 12.100415 , 11.474018 ,\n",
              "        9.2955885,  8.785437 ,  9.764645 ,  9.2955885, 10.407666 ,\n",
              "       13.846863 , 13.373176 ,  9.121672 , 10.347193 , 10.150005 ,\n",
              "        9.068335 , 11.599584 , 10.150005 ,  9.571459 ,  8.57722  ,\n",
              "        8.004291 ,  8.192759 ,  7.327259 ,  7.576528 ,  6.384614 ,\n",
              "        2.4051156,  4.098926 ,  1.5974734,  9.332651 ,  8.952762 ,\n",
              "       11.529175 , 13.957327 , 18.691076 , 12.732546 , 10.980341 ,\n",
              "        9.208364 ,  9.121672 ,  9.764645 ,  8.192759 ,  8.605643 ,\n",
              "       10.109799 , 15.141195 ,  9.065861 ,  4.824457 ,  9.59658  ,\n",
              "        9.03245  ,  7.576528 ,  8.812578 ,  8.812578 ,  8.967632 ,\n",
              "        7.576528 ,  7.433087 ,  2.6075823,  7.576528 ,  8.745666 ,\n",
              "        7.9014783,  9.287088 ,  9.208364 , 11.599584 ,  8.952762 ,\n",
              "        9.764645 , 13.725577 , 16.225931 , 20.593775 , 11.907359 ,\n",
              "       11.124948 , 11.474018 ,  8.785437 ,  8.066566 ,  8.785437 ,\n",
              "        9.068335 , 11.907359 , 14.812003 ,  8.812578 ,  6.166134 ,\n",
              "        8.812578 ,  7.7793865,  8.004291 ,  8.004291 ,  9.208364 ,\n",
              "        8.57722  ,  9.696598 , 10.603455 ,  8.785437 ,  9.287088 ,\n",
              "       10.036848 ,  9.121672 ,  7.9014783,  8.236728 ,  8.785437 ,\n",
              "        6.4862127,  8.952762 , 13.678968 , 13.791607 , 20.199465 ,\n",
              "       12.82692  , 10.347193 ,  7.938406 ,  9.068335 ,  8.785437 ,\n",
              "       13.846863 , 10.90274  ,  8.754463 , 13.373176 ,  8.967632 ,\n",
              "        8.843346 ,  7.8566127, 10.036848 ,  9.4107895,  9.9102125,\n",
              "        9.841646 , 10.603455 ,  8.967632 , 12.100415 ,  9.2955885,\n",
              "        8.236728 , 10.407666 ,  8.812578 ,  9.208364 ,  8.192759 ,\n",
              "       11.907359 , 12.069542 , 13.115346 , 14.0930805, 17.599787 ,\n",
              "       12.466746 , 12.199565 ,  8.967632 ,  8.952762 , 11.124948 ,\n",
              "        7.938406 ,  9.94322  ,  9.068335 , 15.321013 , 11.446653 ,\n",
              "        8.952762 , 11.599584 ,  9.065861 ,  8.967632 , 12.384481 ,\n",
              "       11.243555 , 10.90274  , 10.150005 , 10.347193 , 11.541555 ,\n",
              "       10.150005 , 12.069542 , 11.399755 ,  8.952762 ,  9.208364 ,\n",
              "        9.9102125, 12.466746 ,  8.952762 , 12.100415 , 12.693458 ,\n",
              "       13.701457 , 14.0930805, 13.005589 , 10.603455 ,  8.841853 ,\n",
              "        8.605643 ,  9.065861 , 11.446653 , 10.4421625, 14.392499 ,\n",
              "       10.90274  , 11.099595 , 12.384481 , 13.243612 , 15.141195 ,\n",
              "       11.446653 , 11.907359 , 11.541555 , 12.384481 , 15.88093  ,\n",
              "       21.395628 , 14.217946 , 14.787373 , 11.243555 , 12.667715 ,\n",
              "       13.914686 , 18.096413 , 15.614069 , 13.243612 , 13.740696 ,\n",
              "       15.614069 , 12.82692  , 13.143611 ,  9.052493 ,  7.841806 ,\n",
              "        9.2955885,  8.754463 , 10.109799 , 12.199565 , 13.743934 ,\n",
              "       12.100415 , 11.485907 , 11.529175 , 12.100415 , 12.221774 ,\n",
              "       21.062908 , 12.951329 , 12.100415 , 11.268586 , 11.758794 ,\n",
              "       11.557617 , 13.143611 , 12.951329 , 15.141195 , 13.846863 ,\n",
              "       12.408305 , 11.485907 , 14.787373 , 13.143611 , 13.743934 ,\n",
              "       11.557617 , 15.80619  , 14.0930805, 11.739092 ,  9.068335 ,\n",
              "       10.036848 ,  8.975627 ,  7.9743357, 10.4421625, 12.220606 ,\n",
              "       13.846863 , 15.88093  , 15.116622 , 11.894632 , 10.180936 ,\n",
              "       10.452879 , 13.081266 , 13.759426 , 13.759426 , 13.846863 ,\n",
              "       13.716874 , 13.716874 , 13.934235 , 13.081266 , 13.48679  ,\n",
              "       15.483112 , 15.483112 , 13.115346 , 12.951329 , 15.416948 ,\n",
              "       13.846863 , 11.529175 , 21.062908 , 11.894632 , 12.82692  ,\n",
              "        8.623812 ,  8.605643 ,  9.923625 , 10.347193 , 11.124948 ,\n",
              "       11.758794 , 12.384481 , 11.739092 , 13.373176 , 21.062908 ,\n",
              "       13.725577 , 16.998987 , 13.143611 , 13.914686 , 13.005589 ,\n",
              "       13.678968 , 13.398807 , 16.163124 , 13.740696 , 14.812003 ,\n",
              "       14.812003 , 21.062908 , 16.23396  , 13.841049 , 13.743934 ,\n",
              "       11.701561 , 10.109799 , 12.100415 ,  8.491785 ,  8.745666 ,\n",
              "        7.2584147, 10.603455 ,  9.4107895, 11.739092 , 14.392499 ,\n",
              "       10.407666 , 10.109799 , 13.081266 , 11.399755 , 11.399755 ,\n",
              "       13.730662 , 13.081266 , 13.115346 , 12.199565 , 13.716874 ,\n",
              "       15.141195 , 15.200877 , 15.483112 , 14.645097 , 14.066723 ,\n",
              "       12.732546 , 11.446653 , 11.907359 , 13.846863 , 13.759426 ,\n",
              "       13.743934 , 15.803645 , 11.529175 , 13.716874 ,  8.841853 ,\n",
              "        8.745666 , 10.603455 ,  9.764645 , 10.109799 , 11.151521 ,\n",
              "       21.062908 , 17.756739 , 13.730662 ,  9.4107895, 10.150005 ,\n",
              "       12.100415 , 12.384481 , 10.452879 , 13.243612 , 13.759426 ,\n",
              "       11.894632 , 11.599584 , 13.143611 , 13.005589 , 10.452879 ,\n",
              "       11.485907 ,  7.8566127, 11.151521 , 10.347193 , 13.716874 ,\n",
              "       14.787373 , 15.80619  , 12.732546 , 15.141195 , 11.485907 ,\n",
              "        9.9102125,  9.841646 , 11.485907 , 13.914686 , 12.199565 ,\n",
              "       13.934235 , 11.151521 , 10.150005 , 10.347193 ,  7.8566127,\n",
              "       12.069542 ,  9.87578  , 10.90274  , 10.531218 ,  8.812578 ,\n",
              "        6.384614 ,  8.967632 ,  9.94322  , 11.124948 , 10.180936 ,\n",
              "        8.623812 ,  7.100708 ,  6.384614 ,  7.100708 ,  9.923625 ,\n",
              "       14.0930805, 11.243555 , 14.530033 , 16.163124 , 13.846863 ,\n",
              "        8.975627 ,  7.0816965,  9.2955885, 11.474018 , 10.407666 ,\n",
              "       17.599787 ,  6.9673743, 11.099595 ,  7.4104347,  7.0816965,\n",
              "        9.616457 ,  9.9102125,  8.745666 ,  8.57722  ,  8.754463 ,\n",
              "        9.87578  ,  8.745666 ,  9.841646 ,  8.623812 ,  7.938406 ,\n",
              "        7.4677567,  5.4450026,  5.1026764,  8.066566 , 10.90274  ,\n",
              "       12.951329 , 12.069542 , 12.732546 , 15.116622 ,  8.785437 ,\n",
              "        7.9743357,  7.2584147,  8.745666 ,  9.065861 ,  9.923625 ,\n",
              "       20.664963 , 17.193264 ,  9.764645 , 10.037987 , 11.485907 ,\n",
              "       11.599584 ,  9.87578  , 11.599584 ,  8.975627 ,  8.754463 ,\n",
              "        9.068335 , 10.037987 ,  9.923625 , 10.980341 , 10.407666 ,\n",
              "        8.843346 ,  8.57722  ,  8.605643 ,  7.938406 ,  7.9743357,\n",
              "        8.192759 , 13.743934 , 12.693458 , 11.474018 , 13.740696 ,\n",
              "        8.449132 ,  8.004291 , 10.150005 , 10.603455 ,  5.8744955,\n",
              "        7.9743357, 12.220606 , 15.88093  ,  9.2955885,  9.9102125,\n",
              "        8.491785 ,  9.2955885, 10.036848 ,  8.745666 ,  7.8566127,\n",
              "        9.068335 ,  9.4107895,  7.100708 ,  8.004291 ,  9.764645 ,\n",
              "       10.036848 ,  8.952762 ,  6.7999077,  5.4450026, 11.399755 ,\n",
              "       10.603455 ,  7.938406 , 15.200877 , 15.416948 , 11.739092 ,\n",
              "       13.730662 ,  8.284914 ,  9.2955885, 10.150005 ,  8.843346 ,\n",
              "        7.576528 ,  9.923625 , 12.667715 , 13.373176 ,  9.923625 ,\n",
              "        8.967632 ,  9.571459 , 11.485907 ,  5.1026764,  8.605643 ,\n",
              "       11.399755 , 13.678968 , 10.037987 ,  8.975627 ,  7.4677567,\n",
              "        9.841646 , 13.678968 ,  9.923625 ,  6.2709265, 11.151521 ,\n",
              "       10.531218 ,  9.94322  , 17.724909 , 14.200828 , 14.0930805,\n",
              "       11.894632 , 13.005589 , 11.474018 ,  9.9102125,  8.284914 ,\n",
              "       11.124948 , 10.407666 , 10.452879 , 10.109799 ,  9.065861 ,\n",
              "        8.745666 , 15.116622 , 14.157446 , 11.124948 , 10.4421625,\n",
              "       11.446653 ,  9.616457 , 11.446653 ,  9.208364 , 11.446653 ,\n",
              "       11.541555 , 11.399755 , 13.846863 , 14.787373 , 17.756739 ,\n",
              "       13.115346 , 14.217946 , 13.743934 , 16.1509   , 13.841049 ,\n",
              "       13.081266 , 16.225931 ,  9.841646 ,  8.967632 ,  7.4104347,\n",
              "        9.616457 , 14.157446 , 11.758794 , 10.603455 , 11.151521 ,\n",
              "       13.243612 , 14.157446 , 12.384481 , 11.268586 ,  9.052493 ,\n",
              "       10.180936 ,  9.4107895,  8.754463 , 13.081266 , 11.529175 ,\n",
              "       11.124948 , 11.151521 , 11.739092 , 11.243555 ,  9.052493 ,\n",
              "       11.894632 , 11.894632 , 13.143611 , 11.701561 , 13.081266 ,\n",
              "       12.221774 , 12.951329 , 11.268586 , 10.036848 ,  8.192759 ,\n",
              "        8.841853 , 12.100415 , 11.474018 , 12.100415 , 13.914686 ,\n",
              "       11.099595 , 12.199565 , 12.069542 , 13.115346 , 12.82692  ,\n",
              "       14.530033 , 11.894632 , 12.220606 , 12.667715 , 12.384481 ,\n",
              "       12.82692  ,  9.94322  , 11.243555 , 14.157446 , 13.914686 ,\n",
              "       13.115346 , 12.466746 , 13.725577 ], dtype=float32)"
            ]
          },
          "metadata": {},
          "execution_count": 45
        }
      ]
    },
    {
      "cell_type": "code",
      "source": [
        "mean_squared_error(X_validacao, predicao)"
      ],
      "metadata": {
        "colab": {
          "base_uri": "https://localhost:8080/"
        },
        "id": "KVNXiUAPgFK6",
        "outputId": "50af7b4f-43fe-4a9e-cd35-c66dd0ee0b01"
      },
      "execution_count": 46,
      "outputs": [
        {
          "output_type": "execute_result",
          "data": {
            "text/plain": [
              "3.5760037830418296"
            ]
          },
          "metadata": {},
          "execution_count": 46
        }
      ]
    }
  ]
}